{
 "cells": [
  {
   "cell_type": "code",
   "execution_count": 1,
   "metadata": {
    "collapsed": true
   },
   "outputs": [],
   "source": [
    "import numpy as np\n",
    "import pandas as pd\n",
    "import pickle\n",
    "import datetime"
   ]
  },
  {
   "cell_type": "code",
   "execution_count": null,
   "metadata": {
    "collapsed": true
   },
   "outputs": [],
   "source": []
  },
  {
   "cell_type": "markdown",
   "metadata": {},
   "source": [
    "### Dates are Pandas Timestamps"
   ]
  },
  {
   "cell_type": "code",
   "execution_count": null,
   "metadata": {
    "collapsed": true
   },
   "outputs": [],
   "source": [
    "df.loc[1700,'date_fixed']"
   ]
  },
  {
   "cell_type": "markdown",
   "metadata": {},
   "source": [
    "### Use Timedelta method to shift time"
   ]
  },
  {
   "cell_type": "code",
   "execution_count": null,
   "metadata": {
    "collapsed": true
   },
   "outputs": [],
   "source": [
    "df.loc[1700,'date_fixed'] - pd.Timedelta(hours=5)"
   ]
  },
  {
   "cell_type": "markdown",
   "metadata": {},
   "source": [
    "# RUN THESE"
   ]
  },
  {
   "cell_type": "code",
   "execution_count": null,
   "metadata": {
    "collapsed": true
   },
   "outputs": [],
   "source": [
    "df.head()"
   ]
  },
  {
   "cell_type": "code",
   "execution_count": 16,
   "metadata": {
    "collapsed": true
   },
   "outputs": [],
   "source": [
    "#read in; had to use converters b/c the truck names had mixed types\n",
    "df = pd.read_csv(\"20180101.csv\", parse_dates=['date_fixed'], converters={'truck_name': str})"
   ]
  },
  {
   "cell_type": "code",
   "execution_count": 17,
   "metadata": {
    "collapsed": true
   },
   "outputs": [],
   "source": [
    "#stripping white space from the truck names\n",
    "df['truck_name'] = df['truck_name'].str.strip()\n",
    "df['address'] =df['address'].str.strip()"
   ]
  },
  {
   "cell_type": "code",
   "execution_count": 18,
   "metadata": {
    "collapsed": true
   },
   "outputs": [],
   "source": [
    "#adjust time offset by 5 hours\n",
    "df['date_fixed'] = df['date_fixed'] - pd.Timedelta(hours=5)"
   ]
  },
  {
   "cell_type": "code",
   "execution_count": 19,
   "metadata": {
    "collapsed": true
   },
   "outputs": [],
   "source": [
    "#sorted by truck then date/time\n",
    "df = df.sort_values(by=['truck_name','date_fixed'],na_position='first')"
   ]
  },
  {
   "cell_type": "code",
   "execution_count": 20,
   "metadata": {
    "collapsed": true
   },
   "outputs": [],
   "source": [
    "#reorder the index after sorting\n",
    "df = df.reset_index(drop=True)"
   ]
  },
  {
   "cell_type": "markdown",
   "metadata": {},
   "source": [
    "# To here"
   ]
  },
  {
   "cell_type": "code",
   "execution_count": null,
   "metadata": {
    "collapsed": true
   },
   "outputs": [],
   "source": [
    "# get the manhattan distance between consecutive data points\n",
    "#df['manh_dist'] = abs(df.longitude - df.longitude.shift()) + abs(df.latitude - df.latitude.shift())"
   ]
  },
  {
   "cell_type": "code",
   "execution_count": null,
   "metadata": {
    "collapsed": true
   },
   "outputs": [],
   "source": [
    "#filter out close data points\n",
    "#df = df[df.manh_dist > .0005]"
   ]
  },
  {
   "cell_type": "code",
   "execution_count": null,
   "metadata": {
    "collapsed": true
   },
   "outputs": [],
   "source": [
    "#filter out unreasonably far data points\n",
    "#df = df[df.manh_dist < .01]"
   ]
  },
  {
   "cell_type": "code",
   "execution_count": null,
   "metadata": {
    "collapsed": true
   },
   "outputs": [],
   "source": []
  },
  {
   "cell_type": "code",
   "execution_count": null,
   "metadata": {
    "collapsed": true
   },
   "outputs": [],
   "source": [
    "dft = df[['truck_name','date_fixed', 'latitude','longitude']]"
   ]
  },
  {
   "cell_type": "code",
   "execution_count": null,
   "metadata": {
    "collapsed": true
   },
   "outputs": [],
   "source": [
    "#convert to numpy array\n",
    "dft = dft.values"
   ]
  },
  {
   "cell_type": "code",
   "execution_count": null,
   "metadata": {
    "collapsed": true
   },
   "outputs": [],
   "source": [
    "#How to get counts of unique values for how many differnt days (there is only 1 day here, i.e. Jan 1)\n",
    "df['date_fixed'].dt.day.value_counts()"
   ]
  },
  {
   "cell_type": "markdown",
   "metadata": {},
   "source": [
    "# RUN THESE"
   ]
  },
  {
   "cell_type": "code",
   "execution_count": 21,
   "metadata": {
    "collapsed": true
   },
   "outputs": [],
   "source": [
    "#keep only lon,lat\n",
    "df = df[['truck_name', 'date_fixed', 'longitude','latitude']]"
   ]
  },
  {
   "cell_type": "code",
   "execution_count": 22,
   "metadata": {
    "collapsed": true
   },
   "outputs": [],
   "source": [
    "#convert to numpy array\n",
    "arr = df.values"
   ]
  },
  {
   "cell_type": "markdown",
   "metadata": {},
   "source": [
    "# Left off here. Create an 'ID' column, which is a mapping from a point to a road segment"
   ]
  },
  {
   "cell_type": "markdown",
   "metadata": {},
   "source": [
    "# Run Cell below"
   ]
  },
  {
   "cell_type": "code",
   "execution_count": 23,
   "metadata": {
    "collapsed": true
   },
   "outputs": [],
   "source": [
    "objID_to_bnd_box = pickle.load( open( \"ID_to_bound_box_R2\", \"rb\" ) )"
   ]
  },
  {
   "cell_type": "code",
   "execution_count": null,
   "metadata": {
    "collapsed": true
   },
   "outputs": [],
   "source": [
    "#test iterrows; delete eventually\n",
    "tst2 = []\n",
    "for index, row in df.iterrows():\n",
    "    tst2.append([index,row])\n",
    "    "
   ]
  },
  {
   "cell_type": "code",
   "execution_count": null,
   "metadata": {
    "collapsed": true
   },
   "outputs": [],
   "source": [
    "# an index and row\n",
    "tst2[10]"
   ]
  },
  {
   "cell_type": "code",
   "execution_count": null,
   "metadata": {
    "collapsed": true
   },
   "outputs": [],
   "source": [
    "# a row (as a Series)\n",
    "tst2[10][1]"
   ]
  },
  {
   "cell_type": "code",
   "execution_count": null,
   "metadata": {
    "collapsed": true
   },
   "outputs": [],
   "source": [
    "tst2[1000][1].latitude"
   ]
  },
  {
   "cell_type": "code",
   "execution_count": null,
   "metadata": {
    "collapsed": true
   },
   "outputs": [],
   "source": [
    "objID_to_bnd_box[10]"
   ]
  },
  {
   "cell_type": "markdown",
   "metadata": {},
   "source": [
    "# Run these two\n",
    "##  How to incrementally add values to the not yet created 'ID' column?"
   ]
  },
  {
   "cell_type": "code",
   "execution_count": 24,
   "metadata": {
    "collapsed": true
   },
   "outputs": [],
   "source": [
    "#add a third column initialized to 'NaN'\n",
    "arr = np.insert(arr, 4, None, axis=1)"
   ]
  },
  {
   "cell_type": "code",
   "execution_count": 25,
   "metadata": {
    "collapsed": true
   },
   "outputs": [],
   "source": [
    "#attempt with just Pandas; slooowwwwwww\n",
    "cnt = 0\n",
    "for row in arr:\n",
    "    lon = row[2]\n",
    "    lat = row[3]\n",
    "    for k,v in objID_to_bnd_box.items():\n",
    "        if lon > min(v[0][0],v[1][0]) and lon < max(v[0][0],v[1][0]) and lat > min(v[0][1],v[1][1]) and lat < max(v[0][1],v[1][1]):\n",
    "            arr[cnt][4] = k\n",
    "    cnt += 1\n",
    "           \n",
    "            \n",
    "    "
   ]
  },
  {
   "cell_type": "code",
   "execution_count": 26,
   "metadata": {},
   "outputs": [
    {
     "data": {
      "text/plain": [
       "array(['178', Timestamp('2018-01-01 12:30:59'), -76.1194621330818,\n",
       "       43.0432602080756, 3282], dtype=object)"
      ]
     },
     "execution_count": 26,
     "metadata": {},
     "output_type": "execute_result"
    }
   ],
   "source": [
    "arr[1000]"
   ]
  },
  {
   "cell_type": "code",
   "execution_count": 27,
   "metadata": {
    "collapsed": true
   },
   "outputs": [],
   "source": [
    "df4 = pd.DataFrame(arr)"
   ]
  },
  {
   "cell_type": "code",
   "execution_count": 28,
   "metadata": {},
   "outputs": [
    {
     "data": {
      "text/plain": [
       "0       0\n",
       "1       0\n",
       "2       0\n",
       "3       0\n",
       "4    4941\n",
       "dtype: int64"
      ]
     },
     "execution_count": 28,
     "metadata": {},
     "output_type": "execute_result"
    }
   ],
   "source": [
    "df4.isnull().sum()"
   ]
  },
  {
   "cell_type": "code",
   "execution_count": 15,
   "metadata": {},
   "outputs": [
    {
     "data": {
      "text/plain": [
       "0    39784\n",
       "1    39784\n",
       "2    39784\n",
       "3    39784\n",
       "4    34102\n",
       "dtype: int64"
      ]
     },
     "execution_count": 15,
     "metadata": {},
     "output_type": "execute_result"
    }
   ],
   "source": [
    "df4.count()"
   ]
  },
  {
   "cell_type": "code",
   "execution_count": 13,
   "metadata": {},
   "outputs": [
    {
     "data": {
      "text/html": [
       "<div>\n",
       "<style>\n",
       "    .dataframe thead tr:only-child th {\n",
       "        text-align: right;\n",
       "    }\n",
       "\n",
       "    .dataframe thead th {\n",
       "        text-align: left;\n",
       "    }\n",
       "\n",
       "    .dataframe tbody tr th {\n",
       "        vertical-align: top;\n",
       "    }\n",
       "</style>\n",
       "<table border=\"1\" class=\"dataframe\">\n",
       "  <thead>\n",
       "    <tr style=\"text-align: right;\">\n",
       "      <th></th>\n",
       "      <th>0</th>\n",
       "      <th>1</th>\n",
       "      <th>2</th>\n",
       "      <th>3</th>\n",
       "      <th>4</th>\n",
       "    </tr>\n",
       "  </thead>\n",
       "  <tbody>\n",
       "    <tr>\n",
       "      <th>5005</th>\n",
       "      <td>212</td>\n",
       "      <td>2018-01-01 06:49:08</td>\n",
       "      <td>-76.1322</td>\n",
       "      <td>43.0469</td>\n",
       "      <td>2973</td>\n",
       "    </tr>\n",
       "    <tr>\n",
       "      <th>5006</th>\n",
       "      <td>212</td>\n",
       "      <td>2018-01-01 06:49:15</td>\n",
       "      <td>-76.1321</td>\n",
       "      <td>43.0469</td>\n",
       "      <td>2973</td>\n",
       "    </tr>\n",
       "    <tr>\n",
       "      <th>5007</th>\n",
       "      <td>212</td>\n",
       "      <td>2018-01-01 06:50:15</td>\n",
       "      <td>-76.1322</td>\n",
       "      <td>43.0445</td>\n",
       "      <td>3087</td>\n",
       "    </tr>\n",
       "    <tr>\n",
       "      <th>5008</th>\n",
       "      <td>212</td>\n",
       "      <td>2018-01-01 06:50:23</td>\n",
       "      <td>-76.1322</td>\n",
       "      <td>43.0443</td>\n",
       "      <td>3087</td>\n",
       "    </tr>\n",
       "    <tr>\n",
       "      <th>5009</th>\n",
       "      <td>212</td>\n",
       "      <td>2018-01-01 06:50:35</td>\n",
       "      <td>-76.1322</td>\n",
       "      <td>43.044</td>\n",
       "      <td>3234</td>\n",
       "    </tr>\n",
       "    <tr>\n",
       "      <th>5010</th>\n",
       "      <td>212</td>\n",
       "      <td>2018-01-01 06:51:35</td>\n",
       "      <td>-76.1323</td>\n",
       "      <td>43.0409</td>\n",
       "      <td>3434</td>\n",
       "    </tr>\n",
       "    <tr>\n",
       "      <th>5011</th>\n",
       "      <td>212</td>\n",
       "      <td>2018-01-01 06:51:47</td>\n",
       "      <td>-76.1324</td>\n",
       "      <td>43.0405</td>\n",
       "      <td>3435</td>\n",
       "    </tr>\n",
       "  </tbody>\n",
       "</table>\n",
       "</div>"
      ],
      "text/plain": [
       "        0                    1        2        3     4\n",
       "5005  212  2018-01-01 06:49:08 -76.1322  43.0469  2973\n",
       "5006  212  2018-01-01 06:49:15 -76.1321  43.0469  2973\n",
       "5007  212  2018-01-01 06:50:15 -76.1322  43.0445  3087\n",
       "5008  212  2018-01-01 06:50:23 -76.1322  43.0443  3087\n",
       "5009  212  2018-01-01 06:50:35 -76.1322   43.044  3234\n",
       "5010  212  2018-01-01 06:51:35 -76.1323  43.0409  3434\n",
       "5011  212  2018-01-01 06:51:47 -76.1324  43.0405  3435"
      ]
     },
     "execution_count": 13,
     "metadata": {},
     "output_type": "execute_result"
    }
   ],
   "source": [
    "df4[5005:5012]"
   ]
  },
  {
   "cell_type": "code",
   "execution_count": 46,
   "metadata": {
    "scrolled": true
   },
   "outputs": [
    {
     "data": {
      "text/plain": [
       "array([['212', Timestamp('2018-01-01 06:49:08'), -76.132157937464,\n",
       "        43.0469119082557, 2845],\n",
       "       ['212', Timestamp('2018-01-01 06:49:15'), -76.13209493744391,\n",
       "        43.0469174082592, None],\n",
       "       ['212', Timestamp('2018-01-01 06:50:15'), -76.13220163730821,\n",
       "        43.044548407819605, None],\n",
       "       ['212', Timestamp('2018-01-01 06:50:23'), -76.1322167372971,\n",
       "        43.044326207778205, None],\n",
       "       ['212', Timestamp('2018-01-01 06:50:35'), -76.1322191372713,\n",
       "        43.04395720771029, None],\n",
       "       ['212', Timestamp('2018-01-01 06:51:35'), -76.132272237069,\n",
       "        43.040903707146995, None],\n",
       "       ['212', Timestamp('2018-01-01 06:51:47'), -76.1324357370944,\n",
       "        43.040519907070106, None]], dtype=object)"
      ]
     },
     "execution_count": 46,
     "metadata": {},
     "output_type": "execute_result"
    }
   ],
   "source": [
    "arr[5005:5012]"
   ]
  },
  {
   "cell_type": "markdown",
   "metadata": {},
   "source": [
    "# Left off here. \n",
    "## Check GeoJSON for Walnut between Harrison/Madison to see bounding box. May need to expand certain boxes. But first, build complete chronological array for Jan1-4 and try to complete one data set. Don't forget to order by strictly date before stacking arrays. "
   ]
  },
  {
   "cell_type": "code",
   "execution_count": null,
   "metadata": {
    "collapsed": true
   },
   "outputs": [],
   "source": [
    "m = np.random.randn(3,5)\n",
    "q = []\n",
    "for row in m:\n",
    "    q.append(row[0])"
   ]
  },
  {
   "cell_type": "code",
   "execution_count": null,
   "metadata": {
    "collapsed": true
   },
   "outputs": [],
   "source": [
    "np.insert(m, 1, None, axis=1)"
   ]
  },
  {
   "cell_type": "code",
   "execution_count": null,
   "metadata": {
    "collapsed": true
   },
   "outputs": [],
   "source": [
    "type(q[1])"
   ]
  },
  {
   "cell_type": "code",
   "execution_count": null,
   "metadata": {
    "collapsed": true
   },
   "outputs": [],
   "source": [
    "df2.head()"
   ]
  },
  {
   "cell_type": "markdown",
   "metadata": {},
   "source": [
    "# Below here is not used"
   ]
  },
  {
   "cell_type": "code",
   "execution_count": null,
   "metadata": {
    "collapsed": true
   },
   "outputs": [],
   "source": [
    "#NOT USED; generate test dataframe\n",
    "test_row_iter = pd.DataFrame(np.random.randn(20,3),columns=list('ABC'))"
   ]
  },
  {
   "cell_type": "code",
   "execution_count": null,
   "metadata": {
    "collapsed": true
   },
   "outputs": [],
   "source": [
    "#NOT USED\n",
    "#for testing: set column C to absolute values\n",
    "test_row_iter['C'] = abs(test_row_iter['C'])"
   ]
  },
  {
   "cell_type": "code",
   "execution_count": null,
   "metadata": {
    "collapsed": true
   },
   "outputs": [],
   "source": [
    "#NOT USED\n",
    "#how to iterate over rows and set a boolean value based on a conditional\n",
    "for i in range(1,len(test_row_iter)):\n",
    "    if test_row_iter.loc[i, 'C'] > 0:\n",
    "        test_row_iter.loc[i,'D'] = True"
   ]
  },
  {
   "cell_type": "code",
   "execution_count": null,
   "metadata": {
    "collapsed": true
   },
   "outputs": [],
   "source": [
    "#NOT USED\n",
    "#set first boolean of the 'Keep' column to 'True', since we always want to keep the first data point\n",
    "test_row_iter.loc[0,'Keep'] = True\n",
    "#create a boolean column based on an the accumulated value of a column\n",
    "threshhold = 2.\n",
    "cum_dist = 0.\n",
    "for i in range(1,len(test_row_iter)):\n",
    "    if test_row_iter.loc[i, 'C'] + cum_dist > threshhold:\n",
    "        test_row_iter.loc[i,'Keep'] = True\n",
    "        cum_dist = 0\n",
    "    else:\n",
    "        test_row_iter.loc[i,'Keep'] = False\n",
    "        cum_dist += test_row_iter.loc[i, 'C']\n",
    "            "
   ]
  },
  {
   "cell_type": "code",
   "execution_count": null,
   "metadata": {
    "collapsed": true
   },
   "outputs": [],
   "source": [
    "#NOT USED\n",
    "test_row_iter = test_row_iter[test_row_iter.Keep == True]"
   ]
  },
  {
   "cell_type": "code",
   "execution_count": null,
   "metadata": {
    "collapsed": true
   },
   "outputs": [],
   "source": [
    "dft = pd.DataFrame(np.random.randn(4,3),columns = list(\"ABC\"))"
   ]
  },
  {
   "cell_type": "code",
   "execution_count": null,
   "metadata": {
    "collapsed": true
   },
   "outputs": [],
   "source": [
    "dft"
   ]
  },
  {
   "cell_type": "code",
   "execution_count": null,
   "metadata": {
    "collapsed": true
   },
   "outputs": [],
   "source": [
    "dft = dft.sort_values(by = ['A'])"
   ]
  },
  {
   "cell_type": "code",
   "execution_count": null,
   "metadata": {
    "collapsed": true
   },
   "outputs": [],
   "source": [
    "dft"
   ]
  },
  {
   "cell_type": "code",
   "execution_count": null,
   "metadata": {
    "collapsed": true
   },
   "outputs": [],
   "source": [
    "for i, r in dft.iterrows():\n",
    "    #print (i)\n",
    "    dft.loc[i,'D'] = i"
   ]
  },
  {
   "cell_type": "code",
   "execution_count": null,
   "metadata": {
    "collapsed": true
   },
   "outputs": [],
   "source": [
    "dft"
   ]
  },
  {
   "cell_type": "code",
   "execution_count": null,
   "metadata": {
    "collapsed": true
   },
   "outputs": [],
   "source": [
    "dft.reset_index(drop=True)"
   ]
  },
  {
   "cell_type": "code",
   "execution_count": null,
   "metadata": {
    "collapsed": true
   },
   "outputs": [],
   "source": [
    "ls = []"
   ]
  },
  {
   "cell_type": "code",
   "execution_count": null,
   "metadata": {
    "collapsed": true
   },
   "outputs": [],
   "source": [
    "ls[3] = 3"
   ]
  },
  {
   "cell_type": "code",
   "execution_count": null,
   "metadata": {
    "collapsed": true
   },
   "outputs": [],
   "source": []
  }
 ],
 "metadata": {
  "kernelspec": {
   "display_name": "Python 3",
   "language": "python",
   "name": "python3"
  },
  "language_info": {
   "codemirror_mode": {
    "name": "ipython",
    "version": 3
   },
   "file_extension": ".py",
   "mimetype": "text/x-python",
   "name": "python",
   "nbconvert_exporter": "python",
   "pygments_lexer": "ipython3",
   "version": "3.6.1"
  }
 },
 "nbformat": 4,
 "nbformat_minor": 2
}
