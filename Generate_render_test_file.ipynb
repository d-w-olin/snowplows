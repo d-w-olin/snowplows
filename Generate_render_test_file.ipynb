{
 "cells": [
  {
   "cell_type": "code",
   "execution_count": 13,
   "metadata": {
    "collapsed": true
   },
   "outputs": [],
   "source": [
    "import numpy as np\n",
    "import pandas as pd\n",
    "import json\n",
    "import random"
   ]
  },
  {
   "cell_type": "code",
   "execution_count": 119,
   "metadata": {},
   "outputs": [],
   "source": [
    "#generate a list simulating elapsed times since road has been plowed\n",
    "#data format: \n",
    "def get_time_list():\n",
    "    temp_list = []\n",
    "    for i in range(24):\n",
    "        #first hour has 25% chance of not being plowed\n",
    "        if i == 0:\n",
    "            if np.random.choice(4) != 0:\n",
    "                temp_list.append(\"null\")\n",
    "            else:\n",
    "                temp_list.append(0)\n",
    "        # 2nd through 4th hours have 25% chance of being plowed, otherwise, increment by 1\n",
    "        elif i>0 and i<4:\n",
    "            if temp_list[i-1] == \"null\":\n",
    "                if np.random.choice(4) != 0:\n",
    "                    temp_list.append(\"null\")\n",
    "                else:\n",
    "                    temp_list.append(0)\n",
    "            else:\n",
    "                temp_list.append(temp_list[i-1] + 1)\n",
    "                \n",
    "        # greater than 4th hour\n",
    "        else:\n",
    "            if temp_list[i-1] == \"null\":\n",
    "                temp_list.append(0)\n",
    "            else:\n",
    "                if temp_list[i-1] < 6:\n",
    "                    temp_list.append(temp_list[i-1] + 1)\n",
    "                else:\n",
    "                    if np.asscalar(np.random.choice(2,1,p=[(i/24.),((24-i) / 24.)]) ) != 0:\n",
    "                        temp_list.append(0)\n",
    "                    else:\n",
    "                        temp_list.append(temp_list[i-1] + 1)\n",
    "    return temp_list"
   ]
  },
  {
   "cell_type": "code",
   "execution_count": 120,
   "metadata": {},
   "outputs": [
    {
     "data": {
      "text/plain": [
       "['null',\n",
       " 'null',\n",
       " 'null',\n",
       " 'null',\n",
       " 0,\n",
       " 1,\n",
       " 2,\n",
       " 3,\n",
       " 4,\n",
       " 5,\n",
       " 6,\n",
       " 0,\n",
       " 1,\n",
       " 2,\n",
       " 3,\n",
       " 4,\n",
       " 5,\n",
       " 6,\n",
       " 7,\n",
       " 8,\n",
       " 9,\n",
       " 0,\n",
       " 1,\n",
       " 2]"
      ]
     },
     "execution_count": 120,
     "metadata": {},
     "output_type": "execute_result"
    }
   ],
   "source": [
    "get_time_list()"
   ]
  },
  {
   "cell_type": "code",
   "execution_count": 98,
   "metadata": {},
   "outputs": [],
   "source": [
    "#build jSON array\n",
    "lapse_time = []\n",
    "for i in range(1,5651):\n",
    "    time_list = get_time_list()\n",
    "    d = {\"ID\":str(i), \"LT\": time_list}\n",
    "    lapse_time.append(d)\n",
    "    "
   ]
  },
  {
   "cell_type": "code",
   "execution_count": null,
   "metadata": {
    "collapsed": true
   },
   "outputs": [],
   "source": [
    "n=6\n",
    "[sum(x) for i in range(1000) ]"
   ]
  },
  {
   "cell_type": "code",
   "execution_count": 118,
   "metadata": {},
   "outputs": [
    {
     "name": "stdout",
     "output_type": "stream",
     "text": [
      "745\n"
     ]
    }
   ],
   "source": [
    "cnt = 0\n",
    "for i in range(1000):\n",
    "    n = 6\n",
    "    cnt += np.asscalar(np.random.choice(2,1,p=[(n/24.),((24-n) / 24.)]) )\n",
    "print (cnt)"
   ]
  },
  {
   "cell_type": "code",
   "execution_count": 100,
   "metadata": {},
   "outputs": [],
   "source": [
    "with open(\"lapse_time.json\", \"w\") as text_file:\n",
    "    json.dump(lapse_time, text_file)"
   ]
  }
 ],
 "metadata": {
  "kernelspec": {
   "display_name": "Python 3",
   "language": "python",
   "name": "python3"
  },
  "language_info": {
   "codemirror_mode": {
    "name": "ipython",
    "version": 3
   },
   "file_extension": ".py",
   "mimetype": "text/x-python",
   "name": "python",
   "nbconvert_exporter": "python",
   "pygments_lexer": "ipython3",
   "version": "3.6.1"
  }
 },
 "nbformat": 4,
 "nbformat_minor": 2
}
