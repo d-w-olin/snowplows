{
 "cells": [
  {
   "cell_type": "code",
   "execution_count": 1,
   "metadata": {
    "collapsed": true
   },
   "outputs": [],
   "source": [
    "import json\n",
    "import csv\n",
    "import numpy as np\n",
    "import pandas as pd"
   ]
  },
  {
   "cell_type": "code",
   "execution_count": 2,
   "metadata": {
    "collapsed": true
   },
   "outputs": [],
   "source": [
    "json_test_data = '{\"type\":\"FeatureCollection\",\"features\":[{\"type\":\"Feature\",\"properties\":{\"truck_name\":\"178             \",\"repair_type\":\"SNOW & ICE\",\"date_fixed\":\"2018-01-02T00:34:05.000Z\",\"strHeading\":\"N\",\"address\":\"1261 CANAL ST SYRACUSE 13210                      \",\"activity_type\":\"    \",\"longitude\":-76.1087182304233,\"latitude\":43.0547791106081,\"FID\":1001},\"geometry\":{\"type\":\"Point\",\"coordinates\":[-76.1087182304233,43.0547791106081]}},{\"type\":\"Feature\",\"properties\":{\"truck_name\":\"178             \",\"repair_type\":\"SNOW & ICE\",\"date_fixed\":\"2018-01-02T00:35:08.000Z\",\"strHeading\":\"N\",\"address\":\"1261 CANAL ST SYRACUSE 13210                      \",\"activity_type\":\"    \",\"longitude\":-76.1087182304233,\"latitude\":43.0547791106081,\"FID\":1002},\"geometry\":{\"type\":\"Point\",\"coordinates\":[-76.1087182304233,43.0547791106081]}},{\"type\":\"Feature\",\"properties\":{\"truck_name\":\"178             \",\"repair_type\":\"SNOW & ICE\",\"date_fixed\":\"2018-01-02T00:35:55.000Z\",\"strHeading\":\"S\",\"address\":\"1814 EB I 690 SYRACUSE 13210                      \",\"activity_type\":\"    Start Moving\",\"longitude\":-76.112334131623,\"latitude\":43.0551424105351,\"FID\":1003},\"geometry\":{\"type\":\"Point\",\"coordinates\":[-76.112334131623,43.055142410535105]}},{\"type\":\"Feature\",\"properties\":{\"truck_name\":\"178             \",\"repair_type\":\"SNOW & ICE\",\"date_fixed\":\"2018-01-02T00:36:06.000Z\",\"strHeading\":\"S\",\"address\":\"1216 CANAL ST REAR                                \",\"activity_type\":\"    Stop Moving\",\"longitude\":-76.112403231643,\"latitude\":43.0551091105263,\"FID\":1004},\"geometry\":{\"type\":\"Point\",\"coordinates\":[-76.11240323164301,43.0551091105263]}},{\"type\":\"Feature\",\"properties\":{\"truck_name\":\"178             \",\"repair_type\":\"SNOW & ICE\",\"date_fixed\":\"2018-01-02T00:36:34.000Z\",\"strHeading\":\"E\",\"address\":\"1237 CANAL ST SYRACUSE 13210                      \",\"activity_type\":\"    Start Moving\",\"longitude\":-76.1119334314879,\"latitude\":43.0550729105378,\"FID\":1005},\"geometry\":{\"type\":\"Point\",\"coordinates\":[-76.1119334314879,43.055072910537795]}},{\"type\":\"Feature\",\"properties\":{\"truck_name\":\"178             \",\"repair_type\":\"SNOW & ICE\",\"date_fixed\":\"2018-01-02T00:36:44.000Z\",\"strHeading\":\"E\",\"address\":\"1237 CANAL ST SYRACUSE 13210                      \",\"activity_type\":\"    Stop Moving\",\"longitude\":-76.111917931483,\"latitude\":43.0550747105387,\"FID\":1006},\"geometry\":{\"type\":\"Point\",\"coordinates\":[-76.111917931483,43.05507471053868]}}] }'"
   ]
  },
  {
   "cell_type": "code",
   "execution_count": 3,
   "metadata": {
    "collapsed": true
   },
   "outputs": [],
   "source": [
    "dt = json.loads(json_test_data)"
   ]
  },
  {
   "cell_type": "code",
   "execution_count": 4,
   "metadata": {},
   "outputs": [
    {
     "data": {
      "text/plain": [
       "{'geometry': {'coordinates': [-76.1087182304233, 43.0547791106081],\n",
       "  'type': 'Point'},\n",
       " 'properties': {'FID': 1002,\n",
       "  'activity_type': '    ',\n",
       "  'address': '1261 CANAL ST SYRACUSE 13210                      ',\n",
       "  'date_fixed': '2018-01-02T00:35:08.000Z',\n",
       "  'latitude': 43.0547791106081,\n",
       "  'longitude': -76.1087182304233,\n",
       "  'repair_type': 'SNOW & ICE',\n",
       "  'strHeading': 'N',\n",
       "  'truck_name': '178             '},\n",
       " 'type': 'Feature'}"
      ]
     },
     "execution_count": 4,
     "metadata": {},
     "output_type": "execute_result"
    }
   ],
   "source": [
    "dt['features'][1]"
   ]
  },
  {
   "cell_type": "code",
   "execution_count": 5,
   "metadata": {
    "collapsed": true
   },
   "outputs": [],
   "source": [
    "data = dt['features']"
   ]
  },
  {
   "cell_type": "code",
   "execution_count": 6,
   "metadata": {},
   "outputs": [
    {
     "data": {
      "text/plain": [
       "{'geometry': {'coordinates': [-76.1087182304233, 43.0547791106081],\n",
       "  'type': 'Point'},\n",
       " 'properties': {'FID': 1001,\n",
       "  'activity_type': '    ',\n",
       "  'address': '1261 CANAL ST SYRACUSE 13210                      ',\n",
       "  'date_fixed': '2018-01-02T00:34:05.000Z',\n",
       "  'latitude': 43.0547791106081,\n",
       "  'longitude': -76.1087182304233,\n",
       "  'repair_type': 'SNOW & ICE',\n",
       "  'strHeading': 'N',\n",
       "  'truck_name': '178             '},\n",
       " 'type': 'Feature'}"
      ]
     },
     "execution_count": 6,
     "metadata": {},
     "output_type": "execute_result"
    }
   ],
   "source": [
    "data[0]"
   ]
  },
  {
   "cell_type": "code",
   "execution_count": 7,
   "metadata": {
    "collapsed": true
   },
   "outputs": [],
   "source": [
    "csv_data = open('test.csv', 'w')"
   ]
  },
  {
   "cell_type": "code",
   "execution_count": 8,
   "metadata": {
    "collapsed": true
   },
   "outputs": [],
   "source": [
    "csvwriter = csv.writer(csv_data)"
   ]
  },
  {
   "cell_type": "code",
   "execution_count": 10,
   "metadata": {},
   "outputs": [
    {
     "data": {
      "text/plain": [
       "78"
      ]
     },
     "execution_count": 10,
     "metadata": {},
     "output_type": "execute_result"
    }
   ],
   "source": [
    "csvwriter.writerow([data[0][\"properties\"][\"truck_name\"], data[0][\"properties\"][\"date_fixed\"],data[0][\"properties\"][\"latitude\"], data[0][\"properties\"][\"longitude\"]   ])"
   ]
  },
  {
   "cell_type": "code",
   "execution_count": 12,
   "metadata": {},
   "outputs": [],
   "source": [
    "csv_data.close()"
   ]
  },
  {
   "cell_type": "code",
   "execution_count": null,
   "metadata": {
    "collapsed": true
   },
   "outputs": [],
   "source": [
    "cnt = 0\n",
    "for each in data:\n",
    "    if cnt == 0:\n",
    "        "
   ]
  },
  {
   "cell_type": "code",
   "execution_count": null,
   "metadata": {
    "collapsed": true
   },
   "outputs": [],
   "source": []
  },
  {
   "cell_type": "code",
   "execution_count": null,
   "metadata": {
    "collapsed": true
   },
   "outputs": [],
   "source": []
  },
  {
   "cell_type": "code",
   "execution_count": null,
   "metadata": {
    "collapsed": true
   },
   "outputs": [],
   "source": []
  },
  {
   "cell_type": "code",
   "execution_count": 184,
   "metadata": {
    "collapsed": true
   },
   "outputs": [],
   "source": [
    "with open('City_Streets_2011.geojson') as f_in:\n",
    "    data = json.load(f_in)"
   ]
  },
  {
   "cell_type": "code",
   "execution_count": 185,
   "metadata": {},
   "outputs": [
    {
     "data": {
      "text/plain": [
       "5650"
      ]
     },
     "execution_count": 185,
     "metadata": {},
     "output_type": "execute_result"
    }
   ],
   "source": [
    "#How many features (i.e. road segments)\n",
    "len(data['features'])"
   ]
  },
  {
   "cell_type": "code",
   "execution_count": 186,
   "metadata": {},
   "outputs": [
    {
     "name": "stdout",
     "output_type": "stream",
     "text": [
      "3959\n"
     ]
    }
   ],
   "source": [
    "#Number features with 2 coords\n",
    "cnt = 0\n",
    "for each in data['features']:\n",
    "    if len(each['geometry']['coordinates']) == 2:\n",
    "        cnt += 1\n",
    "print (cnt)"
   ]
  },
  {
   "cell_type": "code",
   "execution_count": 187,
   "metadata": {},
   "outputs": [
    {
     "name": "stdout",
     "output_type": "stream",
     "text": [
      "1691\n"
     ]
    }
   ],
   "source": [
    "#Number features with >2 coords (e.g. circular road segments)\n",
    "cnt = 0\n",
    "for each in data['features']:\n",
    "    if len(each['geometry']['coordinates']) > 2:\n",
    "        cnt += 1\n",
    "print (cnt)"
   ]
  },
  {
   "cell_type": "code",
   "execution_count": 188,
   "metadata": {
    "collapsed": true
   },
   "outputs": [],
   "source": [
    "test_list = [[-76.1505499459102,43.0820257566861],[-76.1493841368104,43.0827927099946],[-76.148718240551,43.0833314101819],\n",
    "             [-76.148097930336,43.0838404394666]]"
   ]
  },
  {
   "cell_type": "code",
   "execution_count": 189,
   "metadata": {
    "collapsed": true
   },
   "outputs": [],
   "source": [
    "#INPUT: list of coordinates forming a path\n",
    "#OUTPUT: list of 2 coordinates which create the bounding box of all the input coordinates\n",
    "def create_bound_box(arr):\n",
    "    lon = []\n",
    "    lat = []\n",
    "    for each in arr:\n",
    "        lon.append(each[0])\n",
    "        lat.append(each[1])\n",
    "    return [[max(lon),max(lat)],[min(lon),min(lat)]]\n",
    "        \n",
    "        "
   ]
  },
  {
   "cell_type": "code",
   "execution_count": 190,
   "metadata": {},
   "outputs": [
    {
     "data": {
      "text/plain": [
       "[[-76.148097930336, 43.0838404394666], [-76.1505499459102, 43.0820257566861]]"
      ]
     },
     "execution_count": 190,
     "metadata": {},
     "output_type": "execute_result"
    }
   ],
   "source": [
    "#test the function\n",
    "create_bound_box(test_list)"
   ]
  },
  {
   "cell_type": "code",
   "execution_count": 191,
   "metadata": {},
   "outputs": [
    {
     "name": "stdout",
     "output_type": "stream",
     "text": [
      "650\n"
     ]
    }
   ],
   "source": [
    "#making sure 'OBJECTID' is unique and matches the number of features\n",
    "cnt = 0\n",
    "for each in data['features']:\n",
    "    if each['properties']['OBJECTID'] > 5000:\n",
    "        cnt += 1\n",
    "print (cnt)"
   ]
  },
  {
   "cell_type": "code",
   "execution_count": 192,
   "metadata": {
    "collapsed": true
   },
   "outputs": [],
   "source": [
    "#for each feature (road segment), if a path of multiple coords, convert to a bounding box of 2 coords. Store results in a\n",
    "#list of format: [ [OBJECTID, [ [lon1,lat1],[lon2,lon2] ] ] ]\n",
    "#This is a mapping from the OBJECTID in the GeoJSON file to its bounding box\n",
    "objID_to_bnd_box = []\n",
    "for each in data['features']:\n",
    "    if len(each['geometry']['coordinates']) == 2:\n",
    "        objID_to_bnd_box.append([each['properties']['OBJECTID'],each['geometry']['coordinates']])\n",
    "    else:\n",
    "        objID_to_bnd_box.append([each['properties']['OBJECTID'],create_bound_box(each['geometry']['coordinates'])])\n"
   ]
  },
  {
   "cell_type": "code",
   "execution_count": 196,
   "metadata": {},
   "outputs": [
    {
     "name": "stdout",
     "output_type": "stream",
     "text": [
      "T\n"
     ]
    }
   ],
   "source": [
    "#check if exactly two items in each sublist (i.e. OBJECTID and list of coords)\n",
    "for each in objID_to_bnd_box:\n",
    "    if len(each) != 2:\n",
    "        print ('F')\n",
    "        break\n",
    "print ('T')    "
   ]
  },
  {
   "cell_type": "code",
   "execution_count": 194,
   "metadata": {},
   "outputs": [
    {
     "data": {
      "text/plain": [
       "[[1,\n",
       "  [[-76.1473078794914, 43.0842658182288],\n",
       "   [-76.1469944156617, 43.0846226959286]]],\n",
       " [2,\n",
       "  [[-76.1594466884228, 43.0861750438948],\n",
       "   [-76.1623990676457, 43.0841285667857]]],\n",
       " [3,\n",
       "  [[-76.1473684899511, 43.0847921812469],\n",
       "   [-76.148097930336, 43.0838404394666]]],\n",
       " [4,\n",
       "  [[-76.1478537300853, 43.0836676774939],\n",
       "   [-76.1473078794914, 43.0842658182288]]]]"
      ]
     },
     "execution_count": 194,
     "metadata": {},
     "output_type": "execute_result"
    }
   ],
   "source": [
    "objID_to_bnd_box[0:4]"
   ]
  },
  {
   "cell_type": "code",
   "execution_count": 195,
   "metadata": {},
   "outputs": [
    {
     "data": {
      "text/plain": [
       "5650"
      ]
     },
     "execution_count": 195,
     "metadata": {},
     "output_type": "execute_result"
    }
   ],
   "source": [
    "len(objID_to_bnd_box)"
   ]
  },
  {
   "cell_type": "code",
   "execution_count": null,
   "metadata": {
    "collapsed": true
   },
   "outputs": [],
   "source": [
    "#INPUT: 1) DataFrame, which includes coordinates at certain times 2) file containing OBJECTID and corresponding bounding box \n",
    "#          info \n",
    "#OUTPUT: Dictionary of format: {[time_plowed,OBJECTID],[time_plowed,OBJECTID],......}\n"
   ]
  },
  {
   "cell_type": "code",
   "execution_count": 121,
   "metadata": {
    "collapsed": true
   },
   "outputs": [],
   "source": [
    "times = [ time for time in range(100,86400000,864000)]"
   ]
  },
  {
   "cell_type": "code",
   "execution_count": 122,
   "metadata": {
    "collapsed": true
   },
   "outputs": [],
   "source": [
    "epoch_times = [np.asscalar(1519534919000 - time) for time in np.random.choice(times,100,replace=False)]"
   ]
  },
  {
   "cell_type": "code",
   "execution_count": 123,
   "metadata": {
    "collapsed": true
   },
   "outputs": [],
   "source": [
    "ID = [ ints for ints in range(600,700)]"
   ]
  },
  {
   "cell_type": "code",
   "execution_count": 124,
   "metadata": {
    "collapsed": true
   },
   "outputs": [],
   "source": [
    "objIDs = [np.asscalar(ints) for ints in np.random.choice(ID,100,replace=True)] "
   ]
  },
  {
   "cell_type": "code",
   "execution_count": 125,
   "metadata": {},
   "outputs": [
    {
     "data": {
      "text/plain": [
       "int"
      ]
     },
     "execution_count": 125,
     "metadata": {},
     "output_type": "execute_result"
    }
   ],
   "source": [
    "type(epoch_times[10])"
   ]
  },
  {
   "cell_type": "code",
   "execution_count": 126,
   "metadata": {},
   "outputs": [
    {
     "data": {
      "text/plain": [
       "1519534918900"
      ]
     },
     "execution_count": 126,
     "metadata": {},
     "output_type": "execute_result"
    }
   ],
   "source": [
    "max(epoch_times)"
   ]
  },
  {
   "cell_type": "code",
   "execution_count": 128,
   "metadata": {},
   "outputs": [
    {
     "data": {
      "text/plain": [
       "1519449382900"
      ]
     },
     "execution_count": 128,
     "metadata": {},
     "output_type": "execute_result"
    }
   ],
   "source": [
    "min(epoch_times)"
   ]
  },
  {
   "cell_type": "code",
   "execution_count": 129,
   "metadata": {
    "collapsed": true
   },
   "outputs": [],
   "source": [
    "json_array = []"
   ]
  },
  {
   "cell_type": "code",
   "execution_count": 130,
   "metadata": {
    "collapsed": true
   },
   "outputs": [],
   "source": [
    "for i in range(100):\n",
    "    json_array.append({\"ObjectID\": str(objIDs[i]), \"Last_Time\": str(epoch_times[i]), \"isPlowed\": \"False\"})"
   ]
  },
  {
   "cell_type": "code",
   "execution_count": 131,
   "metadata": {
    "collapsed": true
   },
   "outputs": [],
   "source": [
    "with open('json_test_data.json', 'w') as outfile2:\n",
    "    json.dump(json_array,outfile2)"
   ]
  },
  {
   "cell_type": "code",
   "execution_count": 138,
   "metadata": {
    "collapsed": true
   },
   "outputs": [],
   "source": [
    "#create JSON array of 5650 road segments\n"
   ]
  },
  {
   "cell_type": "code",
   "execution_count": 142,
   "metadata": {
    "collapsed": true
   },
   "outputs": [],
   "source": [
    "#make list from 1 to 5650\n",
    "obs = [x for x in range(1,5651)]"
   ]
  },
  {
   "cell_type": "code",
   "execution_count": 143,
   "metadata": {
    "collapsed": true
   },
   "outputs": [],
   "source": [
    "obj_array = []\n",
    "for i in range(len(obs)):\n",
    "    obj_array.append({\"ID\": str(i),\"LTime\": \"null\"})\n"
   ]
  },
  {
   "cell_type": "code",
   "execution_count": 144,
   "metadata": {},
   "outputs": [
    {
     "data": {
      "text/plain": [
       "5650"
      ]
     },
     "execution_count": 144,
     "metadata": {},
     "output_type": "execute_result"
    }
   ],
   "source": [
    "len(obj_array)"
   ]
  },
  {
   "cell_type": "code",
   "execution_count": 147,
   "metadata": {},
   "outputs": [
    {
     "data": {
      "text/plain": [
       "[{'ID': '50', 'LTime': 'null'},\n",
       " {'ID': '51', 'LTime': 'null'},\n",
       " {'ID': '52', 'LTime': 'null'},\n",
       " {'ID': '53', 'LTime': 'null'},\n",
       " {'ID': '54', 'LTime': 'null'},\n",
       " {'ID': '55', 'LTime': 'null'},\n",
       " {'ID': '56', 'LTime': 'null'},\n",
       " {'ID': '57', 'LTime': 'null'},\n",
       " {'ID': '58', 'LTime': 'null'},\n",
       " {'ID': '59', 'LTime': 'null'}]"
      ]
     },
     "execution_count": 147,
     "metadata": {},
     "output_type": "execute_result"
    }
   ],
   "source": [
    "obj_array[50:60]"
   ]
  },
  {
   "cell_type": "code",
   "execution_count": 148,
   "metadata": {
    "collapsed": true
   },
   "outputs": [],
   "source": [
    "with open(\"time_plowed.txt\", \"w\") as text_file:\n",
    "    json.dump(obj_array, text_file)"
   ]
  }
 ],
 "metadata": {
  "kernelspec": {
   "display_name": "Python 3",
   "language": "python",
   "name": "python3"
  },
  "language_info": {
   "codemirror_mode": {
    "name": "ipython",
    "version": 3
   },
   "file_extension": ".py",
   "mimetype": "text/x-python",
   "name": "python",
   "nbconvert_exporter": "python",
   "pygments_lexer": "ipython3",
   "version": "3.6.3"
  }
 },
 "nbformat": 4,
 "nbformat_minor": 2
}
