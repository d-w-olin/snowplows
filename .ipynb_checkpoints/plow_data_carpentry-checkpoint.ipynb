{
 "cells": [
  {
   "cell_type": "code",
   "execution_count": 1,
   "metadata": {
    "collapsed": true
   },
   "outputs": [],
   "source": [
    "import numpy as np\n",
    "import pandas as pd"
   ]
  },
  {
   "cell_type": "code",
   "execution_count": 54,
   "metadata": {},
   "outputs": [],
   "source": [
    "#read in; had to use converters b/c the truck names had mixed types\n",
    "df = pd.read_csv(\"plow20170315.csv\", converters={'truck_name': str})"
   ]
  },
  {
   "cell_type": "code",
   "execution_count": 55,
   "metadata": {},
   "outputs": [
    {
     "name": "stdout",
     "output_type": "stream",
     "text": [
      "<class 'pandas.core.frame.DataFrame'>\n",
      "RangeIndex: 65714 entries, 0 to 65713\n",
      "Data columns (total 8 columns):\n",
      "truck_name       65714 non-null object\n",
      "repair_type      65714 non-null object\n",
      "date_fixed       65714 non-null object\n",
      "date_fixed1      65714 non-null object\n",
      "address          65714 non-null object\n",
      "activity_type    65714 non-null object\n",
      "longitude        65714 non-null float64\n",
      "latitude         65714 non-null float64\n",
      "dtypes: float64(2), object(6)\n",
      "memory usage: 4.0+ MB\n"
     ]
    }
   ],
   "source": [
    "df.info()"
   ]
  },
  {
   "cell_type": "code",
   "execution_count": 56,
   "metadata": {},
   "outputs": [
    {
     "data": {
      "text/html": [
       "<div>\n",
       "<style>\n",
       "    .dataframe thead tr:only-child th {\n",
       "        text-align: right;\n",
       "    }\n",
       "\n",
       "    .dataframe thead th {\n",
       "        text-align: left;\n",
       "    }\n",
       "\n",
       "    .dataframe tbody tr th {\n",
       "        vertical-align: top;\n",
       "    }\n",
       "</style>\n",
       "<table border=\"1\" class=\"dataframe\">\n",
       "  <thead>\n",
       "    <tr style=\"text-align: right;\">\n",
       "      <th></th>\n",
       "      <th>truck_name</th>\n",
       "      <th>repair_type</th>\n",
       "      <th>date_fixed</th>\n",
       "      <th>date_fixed1</th>\n",
       "      <th>address</th>\n",
       "      <th>activity_type</th>\n",
       "      <th>longitude</th>\n",
       "      <th>latitude</th>\n",
       "    </tr>\n",
       "  </thead>\n",
       "  <tbody>\n",
       "    <tr>\n",
       "      <th>0</th>\n",
       "      <td>283</td>\n",
       "      <td>SNOW &amp; ICE</td>\n",
       "      <td>2017-03-15 00:00:01.000</td>\n",
       "      <td>2017-03-15 00:00:02.000</td>\n",
       "      <td>1216 CANAL ST REAR                            ...</td>\n",
       "      <td>Ignition On</td>\n",
       "      <td>-76.112274</td>\n",
       "      <td>43.054979</td>\n",
       "    </tr>\n",
       "    <tr>\n",
       "      <th>1</th>\n",
       "      <td>265</td>\n",
       "      <td>SNOW &amp; ICE</td>\n",
       "      <td>2017-03-15 00:00:04.000</td>\n",
       "      <td>2017-03-15 00:00:05.000</td>\n",
       "      <td>1212 CANAL ST                                 ...</td>\n",
       "      <td></td>\n",
       "      <td>-76.114741</td>\n",
       "      <td>43.054065</td>\n",
       "    </tr>\n",
       "    <tr>\n",
       "      <th>2</th>\n",
       "      <td>284</td>\n",
       "      <td>SNOW &amp; ICE</td>\n",
       "      <td>2017-03-15 00:00:04.000</td>\n",
       "      <td>2017-03-15 00:00:05.000</td>\n",
       "      <td>123 STANDART ST                               ...</td>\n",
       "      <td>Start Moving</td>\n",
       "      <td>-76.139915</td>\n",
       "      <td>43.034899</td>\n",
       "    </tr>\n",
       "    <tr>\n",
       "      <th>3</th>\n",
       "      <td>286</td>\n",
       "      <td>SNOW &amp; ICE</td>\n",
       "      <td>2017-03-15 00:00:06.000</td>\n",
       "      <td>2017-03-15 00:00:06.000</td>\n",
       "      <td>217 GEDDES ST S                               ...</td>\n",
       "      <td></td>\n",
       "      <td>-76.171008</td>\n",
       "      <td>43.044902</td>\n",
       "    </tr>\n",
       "    <tr>\n",
       "      <th>4</th>\n",
       "      <td>266</td>\n",
       "      <td>SNOW &amp; ICE</td>\n",
       "      <td>2017-03-15 00:00:07.000</td>\n",
       "      <td>2017-03-15 00:00:08.000</td>\n",
       "      <td>404 TOWNSEND ST N &amp; WILLOW ST                 ...</td>\n",
       "      <td></td>\n",
       "      <td>-76.146576</td>\n",
       "      <td>43.054486</td>\n",
       "    </tr>\n",
       "  </tbody>\n",
       "</table>\n",
       "</div>"
      ],
      "text/plain": [
       "         truck_name repair_type               date_fixed  \\\n",
       "0  283               SNOW & ICE  2017-03-15 00:00:01.000   \n",
       "1  265               SNOW & ICE  2017-03-15 00:00:04.000   \n",
       "2  284               SNOW & ICE  2017-03-15 00:00:04.000   \n",
       "3  286               SNOW & ICE  2017-03-15 00:00:06.000   \n",
       "4  266               SNOW & ICE  2017-03-15 00:00:07.000   \n",
       "\n",
       "               date_fixed1                                            address  \\\n",
       "0  2017-03-15 00:00:02.000  1216 CANAL ST REAR                            ...   \n",
       "1  2017-03-15 00:00:05.000  1212 CANAL ST                                 ...   \n",
       "2  2017-03-15 00:00:05.000  123 STANDART ST                               ...   \n",
       "3  2017-03-15 00:00:06.000  217 GEDDES ST S                               ...   \n",
       "4  2017-03-15 00:00:08.000  404 TOWNSEND ST N & WILLOW ST                 ...   \n",
       "\n",
       "      activity_type  longitude   latitude  \n",
       "0       Ignition On -76.112274  43.054979  \n",
       "1                   -76.114741  43.054065  \n",
       "2      Start Moving -76.139915  43.034899  \n",
       "3                   -76.171008  43.044902  \n",
       "4                   -76.146576  43.054486  "
      ]
     },
     "execution_count": 56,
     "metadata": {},
     "output_type": "execute_result"
    }
   ],
   "source": [
    "df.head()"
   ]
  },
  {
   "cell_type": "code",
   "execution_count": 57,
   "metadata": {},
   "outputs": [],
   "source": [
    "# get rid of columns I don't need\n",
    "df2 = df[['truck_name','date_fixed','longitude','latitude']]"
   ]
  },
  {
   "cell_type": "code",
   "execution_count": 58,
   "metadata": {},
   "outputs": [
    {
     "data": {
      "text/html": [
       "<div>\n",
       "<style>\n",
       "    .dataframe thead tr:only-child th {\n",
       "        text-align: right;\n",
       "    }\n",
       "\n",
       "    .dataframe thead th {\n",
       "        text-align: left;\n",
       "    }\n",
       "\n",
       "    .dataframe tbody tr th {\n",
       "        vertical-align: top;\n",
       "    }\n",
       "</style>\n",
       "<table border=\"1\" class=\"dataframe\">\n",
       "  <thead>\n",
       "    <tr style=\"text-align: right;\">\n",
       "      <th></th>\n",
       "      <th>truck_name</th>\n",
       "      <th>date_fixed</th>\n",
       "      <th>longitude</th>\n",
       "      <th>latitude</th>\n",
       "    </tr>\n",
       "  </thead>\n",
       "  <tbody>\n",
       "    <tr>\n",
       "      <th>0</th>\n",
       "      <td>283</td>\n",
       "      <td>2017-03-15 00:00:01.000</td>\n",
       "      <td>-76.112274</td>\n",
       "      <td>43.054979</td>\n",
       "    </tr>\n",
       "    <tr>\n",
       "      <th>1</th>\n",
       "      <td>265</td>\n",
       "      <td>2017-03-15 00:00:04.000</td>\n",
       "      <td>-76.114741</td>\n",
       "      <td>43.054065</td>\n",
       "    </tr>\n",
       "    <tr>\n",
       "      <th>2</th>\n",
       "      <td>284</td>\n",
       "      <td>2017-03-15 00:00:04.000</td>\n",
       "      <td>-76.139915</td>\n",
       "      <td>43.034899</td>\n",
       "    </tr>\n",
       "    <tr>\n",
       "      <th>3</th>\n",
       "      <td>286</td>\n",
       "      <td>2017-03-15 00:00:06.000</td>\n",
       "      <td>-76.171008</td>\n",
       "      <td>43.044902</td>\n",
       "    </tr>\n",
       "    <tr>\n",
       "      <th>4</th>\n",
       "      <td>266</td>\n",
       "      <td>2017-03-15 00:00:07.000</td>\n",
       "      <td>-76.146576</td>\n",
       "      <td>43.054486</td>\n",
       "    </tr>\n",
       "  </tbody>\n",
       "</table>\n",
       "</div>"
      ],
      "text/plain": [
       "         truck_name               date_fixed  longitude   latitude\n",
       "0  283               2017-03-15 00:00:01.000 -76.112274  43.054979\n",
       "1  265               2017-03-15 00:00:04.000 -76.114741  43.054065\n",
       "2  284               2017-03-15 00:00:04.000 -76.139915  43.034899\n",
       "3  286               2017-03-15 00:00:06.000 -76.171008  43.044902\n",
       "4  266               2017-03-15 00:00:07.000 -76.146576  43.054486"
      ]
     },
     "execution_count": 58,
     "metadata": {},
     "output_type": "execute_result"
    }
   ],
   "source": [
    "df2.head()"
   ]
  },
  {
   "cell_type": "code",
   "execution_count": 59,
   "metadata": {},
   "outputs": [],
   "source": [
    "#sorted by truck then date/time\n",
    "df3 = df2.sort_values(by=['truck_name','date_fixed'],na_position='first')"
   ]
  },
  {
   "cell_type": "code",
   "execution_count": 28,
   "metadata": {},
   "outputs": [],
   "source": [
    "#test subset \n",
    "df4= df3[15000:15200]"
   ]
  },
  {
   "cell_type": "code",
   "execution_count": 29,
   "metadata": {},
   "outputs": [
    {
     "name": "stdout",
     "output_type": "stream",
     "text": [
      "<class 'pandas.core.frame.DataFrame'>\n",
      "Int64Index: 200 entries, 4693 to 8175\n",
      "Data columns (total 4 columns):\n",
      "truck_name    200 non-null object\n",
      "date_fixed    200 non-null object\n",
      "longitude     200 non-null float64\n",
      "latitude      200 non-null float64\n",
      "dtypes: float64(2), object(2)\n",
      "memory usage: 7.8+ KB\n"
     ]
    }
   ],
   "source": [
    "df4.info()"
   ]
  },
  {
   "cell_type": "code",
   "execution_count": 30,
   "metadata": {},
   "outputs": [
    {
     "data": {
      "text/html": [
       "<div>\n",
       "<style>\n",
       "    .dataframe thead tr:only-child th {\n",
       "        text-align: right;\n",
       "    }\n",
       "\n",
       "    .dataframe thead th {\n",
       "        text-align: left;\n",
       "    }\n",
       "\n",
       "    .dataframe tbody tr th {\n",
       "        vertical-align: top;\n",
       "    }\n",
       "</style>\n",
       "<table border=\"1\" class=\"dataframe\">\n",
       "  <thead>\n",
       "    <tr style=\"text-align: right;\">\n",
       "      <th></th>\n",
       "      <th>truck_name</th>\n",
       "      <th>date_fixed</th>\n",
       "      <th>longitude</th>\n",
       "      <th>latitude</th>\n",
       "    </tr>\n",
       "  </thead>\n",
       "  <tbody>\n",
       "    <tr>\n",
       "      <th>4693</th>\n",
       "      <td>258</td>\n",
       "      <td>2017-03-15 01:40:25.000</td>\n",
       "      <td>-76.119779</td>\n",
       "      <td>43.046386</td>\n",
       "    </tr>\n",
       "    <tr>\n",
       "      <th>4701</th>\n",
       "      <td>258</td>\n",
       "      <td>2017-03-15 01:40:37.000</td>\n",
       "      <td>-76.119724</td>\n",
       "      <td>43.045678</td>\n",
       "    </tr>\n",
       "    <tr>\n",
       "      <th>4710</th>\n",
       "      <td>258</td>\n",
       "      <td>2017-03-15 01:40:50.000</td>\n",
       "      <td>-76.119712</td>\n",
       "      <td>43.045540</td>\n",
       "    </tr>\n",
       "    <tr>\n",
       "      <th>4721</th>\n",
       "      <td>258</td>\n",
       "      <td>2017-03-15 01:41:02.000</td>\n",
       "      <td>-76.119663</td>\n",
       "      <td>43.045169</td>\n",
       "    </tr>\n",
       "    <tr>\n",
       "      <th>4768</th>\n",
       "      <td>258</td>\n",
       "      <td>2017-03-15 01:42:01.000</td>\n",
       "      <td>-76.119639</td>\n",
       "      <td>43.044869</td>\n",
       "    </tr>\n",
       "  </tbody>\n",
       "</table>\n",
       "</div>"
      ],
      "text/plain": [
       "            truck_name               date_fixed  longitude   latitude\n",
       "4693  258               2017-03-15 01:40:25.000 -76.119779  43.046386\n",
       "4701  258               2017-03-15 01:40:37.000 -76.119724  43.045678\n",
       "4710  258               2017-03-15 01:40:50.000 -76.119712  43.045540\n",
       "4721  258               2017-03-15 01:41:02.000 -76.119663  43.045169\n",
       "4768  258               2017-03-15 01:42:01.000 -76.119639  43.044869"
      ]
     },
     "execution_count": 30,
     "metadata": {},
     "output_type": "execute_result"
    }
   ],
   "source": [
    "df4.head()"
   ]
  },
  {
   "cell_type": "code",
   "execution_count": 60,
   "metadata": {},
   "outputs": [],
   "source": [
    "# get the manhattan distance between consecutive data points\n",
    "df3['manh_dist'] = abs(df3.longitude - df3.longitude.shift()) + abs(df3.latitude - df3.latitude.shift())"
   ]
  },
  {
   "cell_type": "code",
   "execution_count": 61,
   "metadata": {
    "scrolled": true
   },
   "outputs": [
    {
     "data": {
      "text/html": [
       "<div>\n",
       "<style>\n",
       "    .dataframe thead tr:only-child th {\n",
       "        text-align: right;\n",
       "    }\n",
       "\n",
       "    .dataframe thead th {\n",
       "        text-align: left;\n",
       "    }\n",
       "\n",
       "    .dataframe tbody tr th {\n",
       "        vertical-align: top;\n",
       "    }\n",
       "</style>\n",
       "<table border=\"1\" class=\"dataframe\">\n",
       "  <thead>\n",
       "    <tr style=\"text-align: right;\">\n",
       "      <th></th>\n",
       "      <th>truck_name</th>\n",
       "      <th>date_fixed</th>\n",
       "      <th>longitude</th>\n",
       "      <th>latitude</th>\n",
       "      <th>manh_dist</th>\n",
       "    </tr>\n",
       "  </thead>\n",
       "  <tbody>\n",
       "    <tr>\n",
       "      <th>9</th>\n",
       "      <td>178</td>\n",
       "      <td>2017-03-15 00:00:11.000</td>\n",
       "      <td>-76.109251</td>\n",
       "      <td>43.055242</td>\n",
       "      <td>NaN</td>\n",
       "    </tr>\n",
       "    <tr>\n",
       "      <th>55</th>\n",
       "      <td>178</td>\n",
       "      <td>2017-03-15 00:01:11.000</td>\n",
       "      <td>-76.109247</td>\n",
       "      <td>43.055258</td>\n",
       "      <td>0.000020</td>\n",
       "    </tr>\n",
       "    <tr>\n",
       "      <th>102</th>\n",
       "      <td>178</td>\n",
       "      <td>2017-03-15 00:02:11.000</td>\n",
       "      <td>-76.109249</td>\n",
       "      <td>43.055274</td>\n",
       "      <td>0.000018</td>\n",
       "    </tr>\n",
       "    <tr>\n",
       "      <th>142</th>\n",
       "      <td>178</td>\n",
       "      <td>2017-03-15 00:03:11.000</td>\n",
       "      <td>-76.109263</td>\n",
       "      <td>43.055258</td>\n",
       "      <td>0.000030</td>\n",
       "    </tr>\n",
       "    <tr>\n",
       "      <th>187</th>\n",
       "      <td>178</td>\n",
       "      <td>2017-03-15 00:04:11.000</td>\n",
       "      <td>-76.109240</td>\n",
       "      <td>43.055317</td>\n",
       "      <td>0.000083</td>\n",
       "    </tr>\n",
       "  </tbody>\n",
       "</table>\n",
       "</div>"
      ],
      "text/plain": [
       "           truck_name               date_fixed  longitude   latitude  \\\n",
       "9    178               2017-03-15 00:00:11.000 -76.109251  43.055242   \n",
       "55   178               2017-03-15 00:01:11.000 -76.109247  43.055258   \n",
       "102  178               2017-03-15 00:02:11.000 -76.109249  43.055274   \n",
       "142  178               2017-03-15 00:03:11.000 -76.109263  43.055258   \n",
       "187  178               2017-03-15 00:04:11.000 -76.109240  43.055317   \n",
       "\n",
       "     manh_dist  \n",
       "9          NaN  \n",
       "55    0.000020  \n",
       "102   0.000018  \n",
       "142   0.000030  \n",
       "187   0.000083  "
      ]
     },
     "execution_count": 61,
     "metadata": {},
     "output_type": "execute_result"
    }
   ],
   "source": [
    "df3.head()"
   ]
  },
  {
   "cell_type": "code",
   "execution_count": 62,
   "metadata": {},
   "outputs": [
    {
     "name": "stdout",
     "output_type": "stream",
     "text": [
      "<class 'pandas.core.frame.DataFrame'>\n",
      "Int64Index: 65714 entries, 9 to 62609\n",
      "Data columns (total 5 columns):\n",
      "truck_name    65714 non-null object\n",
      "date_fixed    65714 non-null object\n",
      "longitude     65714 non-null float64\n",
      "latitude      65714 non-null float64\n",
      "manh_dist     65713 non-null float64\n",
      "dtypes: float64(3), object(2)\n",
      "memory usage: 3.0+ MB\n"
     ]
    }
   ],
   "source": [
    "df3.info()"
   ]
  },
  {
   "cell_type": "code",
   "execution_count": 63,
   "metadata": {},
   "outputs": [
    {
     "data": {
      "text/plain": [
       "truck_name    15924\n",
       "date_fixed    15924\n",
       "longitude     15924\n",
       "latitude      15924\n",
       "manh_dist     15924\n",
       "dtype: int64"
      ]
     },
     "execution_count": 63,
     "metadata": {},
     "output_type": "execute_result"
    }
   ],
   "source": [
    "#A Manhattan distance of .001 is ~160 meters\n",
    "df3[df3.manh_dist > .001].count()"
   ]
  },
  {
   "cell_type": "code",
   "execution_count": 48,
   "metadata": {},
   "outputs": [
    {
     "data": {
      "text/plain": [
       "0.24250540219740085"
      ]
     },
     "execution_count": 48,
     "metadata": {},
     "output_type": "execute_result"
    }
   ],
   "source": [
    "15936/65714"
   ]
  },
  {
   "cell_type": "code",
   "execution_count": 64,
   "metadata": {
    "scrolled": true
   },
   "outputs": [
    {
     "data": {
      "text/plain": [
       "truck_name    20229\n",
       "date_fixed    20229\n",
       "longitude     20229\n",
       "latitude      20229\n",
       "manh_dist     20229\n",
       "dtype: int64"
      ]
     },
     "execution_count": 64,
     "metadata": {},
     "output_type": "execute_result"
    }
   ],
   "source": [
    "df3[df3.manh_dist > .0007].count()"
   ]
  },
  {
   "cell_type": "code",
   "execution_count": 65,
   "metadata": {},
   "outputs": [
    {
     "data": {
      "text/plain": [
       "truck_name    25292\n",
       "date_fixed    25292\n",
       "longitude     25292\n",
       "latitude      25292\n",
       "manh_dist     25292\n",
       "dtype: int64"
      ]
     },
     "execution_count": 65,
     "metadata": {},
     "output_type": "execute_result"
    }
   ],
   "source": [
    "df3[df3.manh_dist > .0005].count()"
   ]
  },
  {
   "cell_type": "code",
   "execution_count": 66,
   "metadata": {},
   "outputs": [
    {
     "data": {
      "text/plain": [
       "truck_name\n",
       "178                 2633\n",
       "179                    1\n",
       "182                 1266\n",
       "206                    7\n",
       "208                 3344\n",
       "210                 4056\n",
       "212                  333\n",
       "216                 2360\n",
       "253                    1\n",
       "254                   84\n",
       "257                  737\n",
       "258                 3536\n",
       "259                 3604\n",
       "261                 3549\n",
       "262                 3996\n",
       "263                 1118\n",
       "264                 3142\n",
       "265                 2691\n",
       "266                 3464\n",
       "267                 3050\n",
       "268                 2917\n",
       "269                    1\n",
       "270                 2876\n",
       "271                 4036\n",
       "281                    1\n",
       "282                  809\n",
       "283                 1833\n",
       "284                 2701\n",
       "285                 2718\n",
       "286                 3515\n",
       "73                  1334\n",
       "S216                   1\n",
       "dtype: int64"
      ]
     },
     "execution_count": 66,
     "metadata": {},
     "output_type": "execute_result"
    }
   ],
   "source": [
    "#how many data points per truck\n",
    "df3.groupby('truck_name').size()"
   ]
  },
  {
   "cell_type": "code",
   "execution_count": 102,
   "metadata": {},
   "outputs": [],
   "source": [
    "#testing strip()\n",
    "trck_stripped = df3.truck_name.str.strip()"
   ]
  },
  {
   "cell_type": "code",
   "execution_count": 103,
   "metadata": {},
   "outputs": [],
   "source": [
    "#stripping white space from the truck names\n",
    "df3['truck_name'] = df3['truck_name'].str.strip()"
   ]
  },
  {
   "cell_type": "code",
   "execution_count": 104,
   "metadata": {},
   "outputs": [],
   "source": [
    "#create a data frame only containing data for truck 210\n",
    "truck_210 = df3[df3.truck_name == '210']"
   ]
  },
  {
   "cell_type": "code",
   "execution_count": 105,
   "metadata": {},
   "outputs": [
    {
     "name": "stdout",
     "output_type": "stream",
     "text": [
      "<class 'pandas.core.frame.DataFrame'>\n",
      "Int64Index: 4056 entries, 31 to 65697\n",
      "Data columns (total 5 columns):\n",
      "truck_name    4056 non-null object\n",
      "date_fixed    4056 non-null object\n",
      "longitude     4056 non-null float64\n",
      "latitude      4056 non-null float64\n",
      "manh_dist     4056 non-null float64\n",
      "dtypes: float64(3), object(2)\n",
      "memory usage: 190.1+ KB\n"
     ]
    }
   ],
   "source": [
    "truck_210.info()"
   ]
  },
  {
   "cell_type": "code",
   "execution_count": null,
   "metadata": {
    "collapsed": true
   },
   "outputs": [],
   "source": [
    "#TO DO: figure out best way of getting rid of spacially proximal data points without losing too much information\n",
    "# Perhaps map out all of the data points first, then try different techniques and map those."
   ]
  },
  {
   "cell_type": "code",
   "execution_count": null,
   "metadata": {
    "collapsed": true
   },
   "outputs": [],
   "source": [
    "#TO DO: figure out how the final JSON object will need to be structured, and how to get to that point"
   ]
  }
 ],
 "metadata": {
  "kernelspec": {
   "display_name": "Python 3",
   "language": "python",
   "name": "python3"
  },
  "language_info": {
   "codemirror_mode": {
    "name": "ipython",
    "version": 3
   },
   "file_extension": ".py",
   "mimetype": "text/x-python",
   "name": "python",
   "nbconvert_exporter": "python",
   "pygments_lexer": "ipython3",
   "version": "3.6.1"
  }
 },
 "nbformat": 4,
 "nbformat_minor": 2
}
