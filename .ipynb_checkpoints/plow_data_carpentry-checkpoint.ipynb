{
 "cells": [
  {
   "cell_type": "code",
   "execution_count": 218,
   "metadata": {
    "collapsed": true
   },
   "outputs": [],
   "source": [
    "import numpy as np\n",
    "import pandas as pd\n",
    "import pickle\n",
    "import datetime\n",
    "import json"
   ]
  },
  {
   "cell_type": "markdown",
   "metadata": {},
   "source": [
    "# RUN THESE"
   ]
  },
  {
   "cell_type": "code",
   "execution_count": 219,
   "metadata": {
    "collapsed": true
   },
   "outputs": [],
   "source": [
    "#load dictionary which maps a road segment to a bounding box\n",
    "objID_to_bnd_box = pickle.load( open( \"ID_to_bound_box_R2\", \"rb\" ) )"
   ]
  },
  {
   "cell_type": "code",
   "execution_count": 220,
   "metadata": {
    "collapsed": true
   },
   "outputs": [],
   "source": [
    "#read in; had to use converters b/c the truck names had mixed types\n",
    "df = pd.read_csv(\"20170314.csv\", parse_dates=['date_fixed', 'date_fixed2'], converters={'truck_name': str})"
   ]
  },
  {
   "cell_type": "code",
   "execution_count": 221,
   "metadata": {},
   "outputs": [
    {
     "data": {
      "text/plain": [
       "truck_name     65411\n",
       "date_fixed     65411\n",
       "date_fixed2    65411\n",
       "address        65411\n",
       "longitude      65411\n",
       "latitude       65411\n",
       "dtype: int64"
      ]
     },
     "execution_count": 221,
     "metadata": {},
     "output_type": "execute_result"
    }
   ],
   "source": [
    "df.count()"
   ]
  },
  {
   "cell_type": "code",
   "execution_count": 222,
   "metadata": {},
   "outputs": [
    {
     "data": {
      "text/html": [
       "<div>\n",
       "<style>\n",
       "    .dataframe thead tr:only-child th {\n",
       "        text-align: right;\n",
       "    }\n",
       "\n",
       "    .dataframe thead th {\n",
       "        text-align: left;\n",
       "    }\n",
       "\n",
       "    .dataframe tbody tr th {\n",
       "        vertical-align: top;\n",
       "    }\n",
       "</style>\n",
       "<table border=\"1\" class=\"dataframe\">\n",
       "  <thead>\n",
       "    <tr style=\"text-align: right;\">\n",
       "      <th></th>\n",
       "      <th>truck_name</th>\n",
       "      <th>date_fixed</th>\n",
       "      <th>date_fixed2</th>\n",
       "      <th>address</th>\n",
       "      <th>longitude</th>\n",
       "      <th>latitude</th>\n",
       "    </tr>\n",
       "  </thead>\n",
       "  <tbody>\n",
       "    <tr>\n",
       "      <th>0</th>\n",
       "      <td>178</td>\n",
       "      <td>2017-03-14 05:04:06</td>\n",
       "      <td>2017-03-14 05:04:06</td>\n",
       "      <td>201 THURBER ST &amp; STEVENS PL                   ...</td>\n",
       "      <td>-76.135875</td>\n",
       "      <td>43.018057</td>\n",
       "    </tr>\n",
       "    <tr>\n",
       "      <th>1</th>\n",
       "      <td>263</td>\n",
       "      <td>2017-03-14 05:04:08</td>\n",
       "      <td>2017-03-14 05:04:08</td>\n",
       "      <td>45 ERIE BLVD W FROM NB WEST ST RAMP SYRACUSE 1...</td>\n",
       "      <td>-76.158347</td>\n",
       "      <td>43.051032</td>\n",
       "    </tr>\n",
       "    <tr>\n",
       "      <th>2</th>\n",
       "      <td>263</td>\n",
       "      <td>2017-03-14 05:04:12</td>\n",
       "      <td>2017-03-14 05:04:12</td>\n",
       "      <td>376 WATER ST W TO ERIE BLVD W                 ...</td>\n",
       "      <td>-76.158167</td>\n",
       "      <td>43.050835</td>\n",
       "    </tr>\n",
       "    <tr>\n",
       "      <th>3</th>\n",
       "      <td>266</td>\n",
       "      <td>2017-03-14 05:04:12</td>\n",
       "      <td>2017-03-14 05:04:13</td>\n",
       "      <td>1001-03 ERIE BLVD E &amp; CROUSE AVE              ...</td>\n",
       "      <td>-76.136336</td>\n",
       "      <td>43.050753</td>\n",
       "    </tr>\n",
       "    <tr>\n",
       "      <th>4</th>\n",
       "      <td>268</td>\n",
       "      <td>2017-03-14 05:04:13</td>\n",
       "      <td>2017-03-14 05:04:13</td>\n",
       "      <td>3120-22 GRANT BLVD                            ...</td>\n",
       "      <td>-76.160580</td>\n",
       "      <td>43.077202</td>\n",
       "    </tr>\n",
       "  </tbody>\n",
       "</table>\n",
       "</div>"
      ],
      "text/plain": [
       "         truck_name          date_fixed         date_fixed2  \\\n",
       "0  178              2017-03-14 05:04:06 2017-03-14 05:04:06   \n",
       "1  263              2017-03-14 05:04:08 2017-03-14 05:04:08   \n",
       "2  263              2017-03-14 05:04:12 2017-03-14 05:04:12   \n",
       "3  266              2017-03-14 05:04:12 2017-03-14 05:04:13   \n",
       "4  268              2017-03-14 05:04:13 2017-03-14 05:04:13   \n",
       "\n",
       "                                             address  longitude   latitude  \n",
       "0  201 THURBER ST & STEVENS PL                   ... -76.135875  43.018057  \n",
       "1  45 ERIE BLVD W FROM NB WEST ST RAMP SYRACUSE 1... -76.158347  43.051032  \n",
       "2  376 WATER ST W TO ERIE BLVD W                 ... -76.158167  43.050835  \n",
       "3  1001-03 ERIE BLVD E & CROUSE AVE              ... -76.136336  43.050753  \n",
       "4  3120-22 GRANT BLVD                            ... -76.160580  43.077202  "
      ]
     },
     "execution_count": 222,
     "metadata": {},
     "output_type": "execute_result"
    }
   ],
   "source": [
    "df.head()"
   ]
  },
  {
   "cell_type": "code",
   "execution_count": 223,
   "metadata": {
    "collapsed": true
   },
   "outputs": [],
   "source": [
    "#stripping white space from the truck names\n",
    "df['truck_name'] = df['truck_name'].str.strip()\n",
    "df['address'] =df['address'].str.strip()"
   ]
  },
  {
   "cell_type": "code",
   "execution_count": 224,
   "metadata": {
    "collapsed": true
   },
   "outputs": [],
   "source": [
    "#adjust time offset by 5 hours\n",
    "#Not required for the March 13\n",
    "#NOTE: March 14,15, and 16 are in DST, SO, 4 hour offset\n",
    "df['date_fixed'] = df['date_fixed'] - pd.Timedelta(hours=4)"
   ]
  },
  {
   "cell_type": "code",
   "execution_count": 225,
   "metadata": {
    "collapsed": true
   },
   "outputs": [],
   "source": [
    "#sorted date/time\n",
    "df = df.sort_values(by=['date_fixed'],na_position='first')"
   ]
  },
  {
   "cell_type": "code",
   "execution_count": 226,
   "metadata": {
    "collapsed": true
   },
   "outputs": [],
   "source": [
    "#reorder the index after sorting\n",
    "df = df.reset_index(drop=True)"
   ]
  },
  {
   "cell_type": "code",
   "execution_count": 227,
   "metadata": {},
   "outputs": [],
   "source": [
    "#get rid of data points from DPW site, by address. Gets rid of ~1300 points\n",
    "df = df[~df.address.str.contains('1200 CANAL',na=False)]"
   ]
  },
  {
   "cell_type": "code",
   "execution_count": 181,
   "metadata": {},
   "outputs": [
    {
     "data": {
      "text/plain": [
       "truck_name     64044\n",
       "date_fixed     64044\n",
       "date_fixed2    64044\n",
       "address        64044\n",
       "longitude      64044\n",
       "latitude       64044\n",
       "dtype: int64"
      ]
     },
     "execution_count": 181,
     "metadata": {},
     "output_type": "execute_result"
    }
   ],
   "source": [
    "df.count()"
   ]
  },
  {
   "cell_type": "code",
   "execution_count": 228,
   "metadata": {
    "collapsed": true
   },
   "outputs": [],
   "source": [
    "#filter out points at DPW site, by long/lat\n",
    "df = df[ (~df.longitude.between(-76.1136, -76.1059)) | (~df.latitude.between(43.0539, 43.0565)) ]"
   ]
  },
  {
   "cell_type": "code",
   "execution_count": 229,
   "metadata": {},
   "outputs": [
    {
     "data": {
      "text/plain": [
       "truck_name     56141\n",
       "date_fixed     56141\n",
       "date_fixed2    56141\n",
       "address        56141\n",
       "longitude      56141\n",
       "latitude       56141\n",
       "dtype: int64"
      ]
     },
     "execution_count": 229,
     "metadata": {},
     "output_type": "execute_result"
    }
   ],
   "source": [
    "df.count()"
   ]
  },
  {
   "cell_type": "code",
   "execution_count": 230,
   "metadata": {
    "collapsed": true
   },
   "outputs": [],
   "source": [
    "#keep only lon,lat\n",
    "df = df[['date_fixed', 'longitude','latitude']]"
   ]
  },
  {
   "cell_type": "code",
   "execution_count": 231,
   "metadata": {
    "collapsed": true
   },
   "outputs": [],
   "source": [
    "#convert to numpy array\n",
    "arr = df.values"
   ]
  },
  {
   "cell_type": "code",
   "execution_count": 232,
   "metadata": {
    "collapsed": true
   },
   "outputs": [],
   "source": [
    "#add a third column initialized to 'NaN'\n",
    "arr = np.insert(arr, 3, None, axis=1)"
   ]
  },
  {
   "cell_type": "code",
   "execution_count": 233,
   "metadata": {
    "collapsed": true
   },
   "outputs": [],
   "source": [
    "#Add a column ('ID') which maps Long & Lat to a road segment (i.e 'OBJECTID' in the City Streets GeoJSON file) \n",
    "cnt = 0\n",
    "for row in arr:\n",
    "    lon = row[1]\n",
    "    lat = row[2]\n",
    "    for k,v in objID_to_bnd_box.items():\n",
    "        if lon > min(v[0][0],v[1][0]) and lon < max(v[0][0],v[1][0]) and lat > min(v[0][1],v[1][1]) and lat < max(v[0][1],v[1][1]):\n",
    "            arr[cnt][3] = k\n",
    "    cnt += 1\n",
    "           "
   ]
  },
  {
   "cell_type": "code",
   "execution_count": 234,
   "metadata": {
    "collapsed": true
   },
   "outputs": [],
   "source": [
    "#convert Numpy array to DataFrame to remove nulls\n",
    "df = pd.DataFrame(arr)"
   ]
  },
  {
   "cell_type": "code",
   "execution_count": 235,
   "metadata": {
    "collapsed": true
   },
   "outputs": [],
   "source": [
    "#remove rows with nulls (i.e. data points which weren't captured by any bounding box)\n",
    "df = df[df[3].notnull()]"
   ]
  },
  {
   "cell_type": "code",
   "execution_count": 236,
   "metadata": {},
   "outputs": [
    {
     "data": {
      "text/plain": [
       "0    50630\n",
       "1    50630\n",
       "2    50630\n",
       "3    50630\n",
       "dtype: int64"
      ]
     },
     "execution_count": 236,
     "metadata": {},
     "output_type": "execute_result"
    }
   ],
   "source": [
    "#total count of mapped road segments\n",
    "df.count()"
   ]
  },
  {
   "cell_type": "code",
   "execution_count": 237,
   "metadata": {
    "collapsed": true
   },
   "outputs": [],
   "source": [
    "df = df.iloc[:,[0,3]]"
   ]
  },
  {
   "cell_type": "code",
   "execution_count": 238,
   "metadata": {
    "collapsed": true
   },
   "outputs": [],
   "source": [
    "#convert back to Numpy array to be stacked with data from other days in that date cluster\n",
    "m14 = df.values"
   ]
  },
  {
   "cell_type": "code",
   "execution_count": 195,
   "metadata": {},
   "outputs": [
    {
     "data": {
      "text/plain": [
       "(50630, 2)"
      ]
     },
     "execution_count": 195,
     "metadata": {},
     "output_type": "execute_result"
    }
   ],
   "source": [
    "m14.shape"
   ]
  },
  {
   "cell_type": "code",
   "execution_count": 196,
   "metadata": {},
   "outputs": [
    {
     "name": "stdout",
     "output_type": "stream",
     "text": [
      "(4794, 2)\n",
      "(50630, 2)\n",
      "(53397, 2)\n",
      "(35748, 2)\n"
     ]
    }
   ],
   "source": [
    "print (m13.shape)\n",
    "print (m14.shape)\n",
    "print (m15.shape)\n",
    "print (m16.shape)"
   ]
  },
  {
   "cell_type": "code",
   "execution_count": 197,
   "metadata": {
    "collapsed": true
   },
   "outputs": [],
   "source": [
    "#stack the arrays by date\n",
    "m13_16 = np.vstack((m13,m14,m15,m16))"
   ]
  },
  {
   "cell_type": "code",
   "execution_count": 198,
   "metadata": {
    "collapsed": true
   },
   "outputs": [],
   "source": [
    "#convert to DataFrame to sort by date\n",
    "j = pd.DataFrame(m13_16,columns=['time','ID'])"
   ]
  },
  {
   "cell_type": "code",
   "execution_count": 199,
   "metadata": {
    "collapsed": true
   },
   "outputs": [],
   "source": [
    "# sort by date\n",
    "j = j.sort_values(by=['time'])"
   ]
  },
  {
   "cell_type": "markdown",
   "metadata": {},
   "source": [
    "## Dump time period final DF to pickle"
   ]
  },
  {
   "cell_type": "code",
   "execution_count": 200,
   "metadata": {
    "collapsed": true
   },
   "outputs": [],
   "source": [
    "pickle.dump( j, open( \"mar_13_16_final_df\", \"wb\" ) )"
   ]
  },
  {
   "cell_type": "markdown",
   "metadata": {},
   "source": [
    "## Load j file (stacked and sorted DF)"
   ]
  },
  {
   "cell_type": "code",
   "execution_count": 970,
   "metadata": {
    "collapsed": true
   },
   "outputs": [],
   "source": [
    "j = pickle.load( open( \"jan1_4_final_df\", \"rb\" ) )"
   ]
  },
  {
   "cell_type": "markdown",
   "metadata": {},
   "source": [
    "## Create main data file template "
   ]
  },
  {
   "cell_type": "code",
   "execution_count": 201,
   "metadata": {
    "collapsed": true
   },
   "outputs": [],
   "source": [
    "#USE THIS\n",
    "#create dictionary to reference for lapse times\n",
    "lapse_time = {}\n",
    "for i in range(1,5651):\n",
    "    lapse_time[i] = []"
   ]
  },
  {
   "cell_type": "code",
   "execution_count": 202,
   "metadata": {},
   "outputs": [
    {
     "data": {
      "text/plain": [
       "time    144569\n",
       "ID      144569\n",
       "dtype: int64"
      ]
     },
     "execution_count": 202,
     "metadata": {},
     "output_type": "execute_result"
    }
   ],
   "source": [
    "j.count()"
   ]
  },
  {
   "cell_type": "markdown",
   "metadata": {},
   "source": [
    "# Function to insert new lapse times into main data file"
   ]
  },
  {
   "cell_type": "code",
   "execution_count": 203,
   "metadata": {
    "collapsed": true
   },
   "outputs": [],
   "source": [
    "def insert_LT(ls,cnt):\n",
    "    \n",
    "    if cnt == 0:\n",
    "        for k,v in lapse_time.items():\n",
    "            if k in ls:\n",
    "                lapse_time[k].append(0)\n",
    "            else:\n",
    "                lapse_time[k].append('null')\n",
    "    else:\n",
    "        for k,v in lapse_time.items():\n",
    "            if k in ls:\n",
    "                lapse_time[k].append(0)\n",
    "            elif lapse_time[k][cnt - 1] == 'null':\n",
    "                lapse_time[k].append('null')\n",
    "            else:\n",
    "                lapse_time[k].append(lapse_time[k][cnt - 1] + 2)\n",
    "    \n",
    "                \n",
    "        \n",
    "    \n",
    "    "
   ]
  },
  {
   "cell_type": "markdown",
   "metadata": {},
   "source": [
    "## Create temp dataframes by time period and call function to add to main data file"
   ]
  },
  {
   "cell_type": "code",
   "execution_count": 204,
   "metadata": {
    "collapsed": true
   },
   "outputs": [],
   "source": [
    "#NOTE!: If we want to put a null value at the first index, we will need to have 49 values in the list of elapsed times\n",
    "# (1 for each period and the first one being null). Would need to initialize cnt to 1\n",
    "#ANOTHER NOTE: the range for 'day' needs to be adjusted for each dataset\n",
    "cnt = 0\n",
    "for day in range(13,17):\n",
    "    for hour in range(2,26,2):\n",
    "        temp_df = j[ (j.time.dt.day == day) & (j.time.dt.hour < hour) & (j.time.dt.hour >= hour - 2)]\n",
    "        tlist = temp_df.ID.unique()\n",
    "        insert_LT(tlist,cnt)\n",
    "        cnt += 1\n",
    "        "
   ]
  },
  {
   "cell_type": "code",
   "execution_count": 205,
   "metadata": {
    "collapsed": true
   },
   "outputs": [],
   "source": [
    "#convert lapse_times dict into a json array\n",
    "LT = []\n",
    "for i in range(1,5651):\n",
    "    d = {\"ID\":str(i), \"LT\": lapse_time[i]}\n",
    "    LT.append(d)"
   ]
  },
  {
   "cell_type": "code",
   "execution_count": 206,
   "metadata": {},
   "outputs": [
    {
     "name": "stdout",
     "output_type": "stream",
     "text": [
      "{'ID': '479', 'LT': ['null', 0, 2, 4, 6, 8, 10, 12, 14, 16, 18, 20, 22, 24, 26, 28, 0, 2, 4, 6, 0, 2, 4, 6, 8, 10, 12, 14, 16, 18, 20, 22, 0, 2, 4, 0, 2, 4, 6, 8, 10, 0, 2, 4, 6, 8, 10, 12]}\n"
     ]
    }
   ],
   "source": [
    "print (LT[478])"
   ]
  },
  {
   "cell_type": "markdown",
   "metadata": {},
   "source": [
    "# GeoJson File for comparing lapse times to a given road"
   ]
  },
  {
   "cell_type": "code",
   "execution_count": 209,
   "metadata": {
    "collapsed": true
   },
   "outputs": [],
   "source": [
    "with open('City_Streets_2011.geojson') as f_in:\n",
    "    roads = json.load(f_in)"
   ]
  },
  {
   "cell_type": "code",
   "execution_count": 215,
   "metadata": {
    "collapsed": true
   },
   "outputs": [],
   "source": [
    "#dictionary mapping road ID to it's properties\n",
    "ID_to_street = {}\n",
    "for each in roads['features']:\n",
    "    ID_to_street[each['properties']['OBJECTID']] = each"
   ]
  },
  {
   "cell_type": "markdown",
   "metadata": {
    "collapsed": true
   },
   "source": [
    "# Dump final data file"
   ]
  },
  {
   "cell_type": "code",
   "execution_count": 207,
   "metadata": {
    "collapsed": true
   },
   "outputs": [],
   "source": [
    "#dump final data file\n",
    "with open(\"LT_M13_16.json\", \"w\") as text_file:\n",
    "    json.dump(LT, text_file)"
   ]
  },
  {
   "cell_type": "markdown",
   "metadata": {},
   "source": [
    "# Testing"
   ]
  },
  {
   "cell_type": "code",
   "execution_count": 663,
   "metadata": {},
   "outputs": [
    {
     "data": {
      "text/plain": [
       "14"
      ]
     },
     "execution_count": 663,
     "metadata": {},
     "output_type": "execute_result"
    }
   ],
   "source": [
    "j1_4[90000][0].hour"
   ]
  },
  {
   "cell_type": "code",
   "execution_count": 712,
   "metadata": {
    "collapsed": true
   },
   "outputs": [],
   "source": [
    "#convert to DataFrame to sort by date\n",
    "j = pd.DataFrame(j1_4,columns=['time','ID'])"
   ]
  },
  {
   "cell_type": "code",
   "execution_count": 713,
   "metadata": {
    "collapsed": true
   },
   "outputs": [],
   "source": [
    "j = j.sort_values(by=['time'])"
   ]
  },
  {
   "cell_type": "code",
   "execution_count": 714,
   "metadata": {
    "collapsed": true
   },
   "outputs": [],
   "source": [
    "j1_4 = j.values"
   ]
  },
  {
   "cell_type": "code",
   "execution_count": 748,
   "metadata": {},
   "outputs": [
    {
     "data": {
      "text/plain": [
       "Timestamp('2018-01-01 01:13:28')"
      ]
     },
     "execution_count": 748,
     "metadata": {},
     "output_type": "execute_result"
    }
   ],
   "source": [
    "j.loc[1000,][0]"
   ]
  },
  {
   "cell_type": "code",
   "execution_count": 751,
   "metadata": {},
   "outputs": [
    {
     "name": "stdout",
     "output_type": "stream",
     "text": [
      "15101\n"
     ]
    }
   ],
   "source": [
    "cnt =0\n",
    "for row in j1_4:\n",
    "    if row[0].day == 1 & row[0].hour < 12:\n",
    "        cnt+=1 \n",
    "print (cnt)"
   ]
  },
  {
   "cell_type": "code",
   "execution_count": 752,
   "metadata": {
    "collapsed": true
   },
   "outputs": [],
   "source": [
    "ts = j[j.time.dt.hour == 3]"
   ]
  },
  {
   "cell_type": "code",
   "execution_count": 753,
   "metadata": {},
   "outputs": [
    {
     "data": {
      "text/plain": [
       "time    3332\n",
       "ID      3332\n",
       "dtype: int64"
      ]
     },
     "execution_count": 753,
     "metadata": {},
     "output_type": "execute_result"
    }
   ],
   "source": [
    "ts.count()"
   ]
  },
  {
   "cell_type": "code",
   "execution_count": 785,
   "metadata": {},
   "outputs": [
    {
     "data": {
      "text/plain": [
       "'null'"
      ]
     },
     "execution_count": 785,
     "metadata": {},
     "output_type": "execute_result"
    }
   ],
   "source": [
    "lapse_time[1][1-0]"
   ]
  },
  {
   "cell_type": "code",
   "execution_count": 169,
   "metadata": {
    "collapsed": true
   },
   "outputs": [],
   "source": [
    "t_df = df[ df.date_fixed.dt.hour == 4]"
   ]
  },
  {
   "cell_type": "code",
   "execution_count": 170,
   "metadata": {},
   "outputs": [
    {
     "data": {
      "text/html": [
       "<div>\n",
       "<style>\n",
       "    .dataframe thead tr:only-child th {\n",
       "        text-align: right;\n",
       "    }\n",
       "\n",
       "    .dataframe thead th {\n",
       "        text-align: left;\n",
       "    }\n",
       "\n",
       "    .dataframe tbody tr th {\n",
       "        vertical-align: top;\n",
       "    }\n",
       "</style>\n",
       "<table border=\"1\" class=\"dataframe\">\n",
       "  <thead>\n",
       "    <tr style=\"text-align: right;\">\n",
       "      <th></th>\n",
       "      <th>truck_name</th>\n",
       "      <th>date_fixed</th>\n",
       "      <th>date_fixed2</th>\n",
       "      <th>address</th>\n",
       "      <th>longitude</th>\n",
       "      <th>latitude</th>\n",
       "    </tr>\n",
       "  </thead>\n",
       "  <tbody>\n",
       "    <tr>\n",
       "      <th>16</th>\n",
       "      <td>263</td>\n",
       "      <td>2017-03-14 04:53:54</td>\n",
       "      <td>2017-03-14 04:53:54</td>\n",
       "      <td>415 FRANKLIN ST N                             ...</td>\n",
       "      <td>-76.154851</td>\n",
       "      <td>43.054566</td>\n",
       "    </tr>\n",
       "    <tr>\n",
       "      <th>102</th>\n",
       "      <td>284</td>\n",
       "      <td>2017-03-14 04:53:55</td>\n",
       "      <td>2017-03-14 04:53:56</td>\n",
       "      <td>764 COMSTOCK AVE &amp; EUCLID AVE                 ...</td>\n",
       "      <td>-76.129813</td>\n",
       "      <td>43.036453</td>\n",
       "    </tr>\n",
       "    <tr>\n",
       "      <th>103</th>\n",
       "      <td>179</td>\n",
       "      <td>2017-03-14 04:53:55</td>\n",
       "      <td>2017-03-14 04:53:55</td>\n",
       "      <td>1820 EB I 690 SYRACUSE 13210                  ...</td>\n",
       "      <td>-76.111369</td>\n",
       "      <td>43.055477</td>\n",
       "    </tr>\n",
       "    <tr>\n",
       "      <th>104</th>\n",
       "      <td>263</td>\n",
       "      <td>2017-03-14 04:53:58</td>\n",
       "      <td>2017-03-14 04:53:58</td>\n",
       "      <td>415 FRANKLIN ST N                             ...</td>\n",
       "      <td>-76.155033</td>\n",
       "      <td>43.054668</td>\n",
       "    </tr>\n",
       "    <tr>\n",
       "      <th>105</th>\n",
       "      <td>261</td>\n",
       "      <td>2017-03-14 04:53:59</td>\n",
       "      <td>2017-03-14 04:53:59</td>\n",
       "      <td>1073-85 GENESEE ST E &amp; UNIVERSITY             ...</td>\n",
       "      <td>-76.134912</td>\n",
       "      <td>43.046925</td>\n",
       "    </tr>\n",
       "  </tbody>\n",
       "</table>\n",
       "</div>"
      ],
      "text/plain": [
       "           truck_name          date_fixed         date_fixed2  \\\n",
       "16   263              2017-03-14 04:53:54 2017-03-14 04:53:54   \n",
       "102  284              2017-03-14 04:53:55 2017-03-14 04:53:56   \n",
       "103  179              2017-03-14 04:53:55 2017-03-14 04:53:55   \n",
       "104  263              2017-03-14 04:53:58 2017-03-14 04:53:58   \n",
       "105  261              2017-03-14 04:53:59 2017-03-14 04:53:59   \n",
       "\n",
       "                                               address  longitude   latitude  \n",
       "16   415 FRANKLIN ST N                             ... -76.154851  43.054566  \n",
       "102  764 COMSTOCK AVE & EUCLID AVE                 ... -76.129813  43.036453  \n",
       "103  1820 EB I 690 SYRACUSE 13210                  ... -76.111369  43.055477  \n",
       "104  415 FRANKLIN ST N                             ... -76.155033  43.054668  \n",
       "105  1073-85 GENESEE ST E & UNIVERSITY             ... -76.134912  43.046925  "
      ]
     },
     "execution_count": 170,
     "metadata": {},
     "output_type": "execute_result"
    }
   ],
   "source": [
    "t_df.head()"
   ]
  },
  {
   "cell_type": "code",
   "execution_count": 83,
   "metadata": {
    "collapsed": true
   },
   "outputs": [],
   "source": [
    "tf = df[ (df.date_fixed.dt.hour != df.date_fixed2.dt.hour) | (df.date_fixed.dt.minute != df.date_fixed2.dt.minute)]"
   ]
  },
  {
   "cell_type": "code",
   "execution_count": 84,
   "metadata": {},
   "outputs": [
    {
     "data": {
      "text/plain": [
       "truck_name     511\n",
       "date_fixed     511\n",
       "date_fixed2    511\n",
       "address        511\n",
       "longitude      511\n",
       "latitude       511\n",
       "dtype: int64"
      ]
     },
     "execution_count": 84,
     "metadata": {},
     "output_type": "execute_result"
    }
   ],
   "source": [
    "tf.count()"
   ]
  },
  {
   "cell_type": "code",
   "execution_count": 34,
   "metadata": {
    "collapsed": true
   },
   "outputs": [],
   "source": [
    "tf = tf.sort_values(by=['truck_name'])"
   ]
  },
  {
   "cell_type": "code",
   "execution_count": 85,
   "metadata": {},
   "outputs": [
    {
     "data": {
      "text/plain": [
       "319"
      ]
     },
     "execution_count": 85,
     "metadata": {},
     "output_type": "execute_result"
    }
   ],
   "source": [
    "tf.date_fixed2.unique().size"
   ]
  },
  {
   "cell_type": "markdown",
   "metadata": {},
   "source": [
    "## Using Manhattan distance to filter close points. Changed approach to problem, so not used."
   ]
  },
  {
   "cell_type": "code",
   "execution_count": null,
   "metadata": {
    "collapsed": true
   },
   "outputs": [],
   "source": [
    "# get the manhattan distance between consecutive data points\n",
    "#df['manh_dist'] = abs(df.longitude - df.longitude.shift()) + abs(df.latitude - df.latitude.shift())"
   ]
  },
  {
   "cell_type": "code",
   "execution_count": null,
   "metadata": {
    "collapsed": true
   },
   "outputs": [],
   "source": [
    "#filter out close data points\n",
    "#df = df[df.manh_dist > .0005]"
   ]
  },
  {
   "cell_type": "code",
   "execution_count": null,
   "metadata": {
    "collapsed": true
   },
   "outputs": [],
   "source": [
    "#filter out unreasonably far data points\n",
    "#df = df[df.manh_dist < .01]"
   ]
  },
  {
   "cell_type": "markdown",
   "metadata": {},
   "source": [
    "## More testing"
   ]
  },
  {
   "cell_type": "code",
   "execution_count": null,
   "metadata": {
    "collapsed": true
   },
   "outputs": [],
   "source": [
    "#How to get counts of unique values for how many differnt days (there is only 1 day here, i.e. Jan 1)\n",
    "df['date_fixed'].dt.day.value_counts()"
   ]
  },
  {
   "cell_type": "code",
   "execution_count": null,
   "metadata": {
    "collapsed": true
   },
   "outputs": [],
   "source": [
    "#test iterrows; delete eventually\n",
    "tst2 = []\n",
    "for index, row in df.iterrows():\n",
    "    tst2.append([index,row])\n",
    "    "
   ]
  },
  {
   "cell_type": "code",
   "execution_count": null,
   "metadata": {
    "collapsed": true
   },
   "outputs": [],
   "source": [
    "# an index and row\n",
    "tst2[10]"
   ]
  },
  {
   "cell_type": "code",
   "execution_count": null,
   "metadata": {
    "collapsed": true
   },
   "outputs": [],
   "source": [
    "# a row (as a Series)\n",
    "tst2[10][1]"
   ]
  },
  {
   "cell_type": "code",
   "execution_count": null,
   "metadata": {
    "collapsed": true
   },
   "outputs": [],
   "source": [
    "tst2[1000][1].latitude"
   ]
  },
  {
   "cell_type": "code",
   "execution_count": null,
   "metadata": {
    "collapsed": true
   },
   "outputs": [],
   "source": [
    "objID_to_bnd_box[10]"
   ]
  },
  {
   "cell_type": "markdown",
   "metadata": {},
   "source": [
    "# Below here is not used"
   ]
  },
  {
   "cell_type": "code",
   "execution_count": null,
   "metadata": {
    "collapsed": true
   },
   "outputs": [],
   "source": [
    "#NOT USED; generate test dataframe\n",
    "test_row_iter = pd.DataFrame(np.random.randn(20,3),columns=list('ABC'))"
   ]
  },
  {
   "cell_type": "code",
   "execution_count": null,
   "metadata": {
    "collapsed": true
   },
   "outputs": [],
   "source": [
    "#NOT USED\n",
    "#for testing: set column C to absolute values\n",
    "test_row_iter['C'] = abs(test_row_iter['C'])"
   ]
  },
  {
   "cell_type": "code",
   "execution_count": null,
   "metadata": {
    "collapsed": true
   },
   "outputs": [],
   "source": [
    "#NOT USED\n",
    "#how to iterate over rows and set a boolean value based on a conditional\n",
    "for i in range(1,len(test_row_iter)):\n",
    "    if test_row_iter.loc[i, 'C'] > 0:\n",
    "        test_row_iter.loc[i,'D'] = True"
   ]
  },
  {
   "cell_type": "code",
   "execution_count": null,
   "metadata": {
    "collapsed": true
   },
   "outputs": [],
   "source": [
    "#NOT USED\n",
    "#set first boolean of the 'Keep' column to 'True', since we always want to keep the first data point\n",
    "test_row_iter.loc[0,'Keep'] = True\n",
    "#create a boolean column based on an the accumulated value of a column\n",
    "threshhold = 2.\n",
    "cum_dist = 0.\n",
    "for i in range(1,len(test_row_iter)):\n",
    "    if test_row_iter.loc[i, 'C'] + cum_dist > threshhold:\n",
    "        test_row_iter.loc[i,'Keep'] = True\n",
    "        cum_dist = 0\n",
    "    else:\n",
    "        test_row_iter.loc[i,'Keep'] = False\n",
    "        cum_dist += test_row_iter.loc[i, 'C']\n",
    "            "
   ]
  }
 ],
 "metadata": {
  "kernelspec": {
   "display_name": "Python 3",
   "language": "python",
   "name": "python3"
  },
  "language_info": {
   "codemirror_mode": {
    "name": "ipython",
    "version": 3
   },
   "file_extension": ".py",
   "mimetype": "text/x-python",
   "name": "python",
   "nbconvert_exporter": "python",
   "pygments_lexer": "ipython3",
   "version": "3.6.1"
  }
 },
 "nbformat": 4,
 "nbformat_minor": 2
}
