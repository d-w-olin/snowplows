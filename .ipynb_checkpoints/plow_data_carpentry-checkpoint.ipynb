{
 "cells": [
  {
   "cell_type": "code",
   "execution_count": 1,
   "metadata": {
    "collapsed": true
   },
   "outputs": [],
   "source": [
    "import numpy as np\n",
    "import pandas as pd\n",
    "import pickle"
   ]
  },
  {
   "cell_type": "code",
   "execution_count": 2,
   "metadata": {
    "collapsed": true
   },
   "outputs": [],
   "source": [
    "#read in; had to use converters b/c the truck names had mixed types\n",
    "df = pd.read_csv(\"20180101.csv\", parse_dates=['date_fixed'], converters={'truck_name': str})"
   ]
  },
  {
   "cell_type": "code",
   "execution_count": 3,
   "metadata": {},
   "outputs": [
    {
     "name": "stdout",
     "output_type": "stream",
     "text": [
      "<class 'pandas.core.frame.DataFrame'>\n",
      "RangeIndex: 39784 entries, 0 to 39783\n",
      "Data columns (total 5 columns):\n",
      "truck_name    39784 non-null object\n",
      "date_fixed    39784 non-null datetime64[ns]\n",
      "address       38861 non-null object\n",
      "longitude     39784 non-null float64\n",
      "latitude      39784 non-null float64\n",
      "dtypes: datetime64[ns](1), float64(2), object(2)\n",
      "memory usage: 1.5+ MB\n"
     ]
    }
   ],
   "source": [
    "df.info()"
   ]
  },
  {
   "cell_type": "markdown",
   "metadata": {},
   "source": [
    "### Dates are Pandas Timestamps"
   ]
  },
  {
   "cell_type": "code",
   "execution_count": 4,
   "metadata": {},
   "outputs": [
    {
     "data": {
      "text/plain": [
       "Timestamp('2018-01-01 16:25:29')"
      ]
     },
     "execution_count": 4,
     "metadata": {},
     "output_type": "execute_result"
    }
   ],
   "source": [
    "df.loc[1700,'date_fixed']"
   ]
  },
  {
   "cell_type": "markdown",
   "metadata": {},
   "source": [
    "### Use Timedelta method to shift time"
   ]
  },
  {
   "cell_type": "code",
   "execution_count": 5,
   "metadata": {},
   "outputs": [
    {
     "data": {
      "text/plain": [
       "Timestamp('2018-01-01 11:25:29')"
      ]
     },
     "execution_count": 5,
     "metadata": {},
     "output_type": "execute_result"
    }
   ],
   "source": [
    "df.loc[1700,'date_fixed'] - pd.Timedelta(hours=5)"
   ]
  },
  {
   "cell_type": "code",
   "execution_count": 6,
   "metadata": {
    "collapsed": true
   },
   "outputs": [],
   "source": [
    "#stripping white space from the truck names\n",
    "df['truck_name'] = df['truck_name'].str.strip()"
   ]
  },
  {
   "cell_type": "code",
   "execution_count": 7,
   "metadata": {
    "collapsed": true
   },
   "outputs": [],
   "source": [
    "#sorted by truck then date/time\n",
    "df = df.sort_values(by=['truck_name','date_fixed'],na_position='first')"
   ]
  },
  {
   "cell_type": "code",
   "execution_count": 8,
   "metadata": {
    "collapsed": true
   },
   "outputs": [],
   "source": [
    "df['date_fixed'] = df['date_fixed'] - pd.Timedelta(hours=5)"
   ]
  },
  {
   "cell_type": "code",
   "execution_count": 28,
   "metadata": {
    "collapsed": true
   },
   "outputs": [],
   "source": [
    "#test subset \n",
    "df4= df3[15000:15200]"
   ]
  },
  {
   "cell_type": "code",
   "execution_count": 9,
   "metadata": {},
   "outputs": [
    {
     "name": "stdout",
     "output_type": "stream",
     "text": [
      "<class 'pandas.core.frame.DataFrame'>\n",
      "Int64Index: 39784 entries, 8427 to 34783\n",
      "Data columns (total 5 columns):\n",
      "truck_name    39784 non-null object\n",
      "date_fixed    39784 non-null datetime64[ns]\n",
      "address       38861 non-null object\n",
      "longitude     39784 non-null float64\n",
      "latitude      39784 non-null float64\n",
      "dtypes: datetime64[ns](1), float64(2), object(2)\n",
      "memory usage: 1.8+ MB\n"
     ]
    }
   ],
   "source": [
    "df.info()"
   ]
  },
  {
   "cell_type": "code",
   "execution_count": 11,
   "metadata": {},
   "outputs": [
    {
     "data": {
      "text/html": [
       "<div>\n",
       "<style>\n",
       "    .dataframe thead tr:only-child th {\n",
       "        text-align: right;\n",
       "    }\n",
       "\n",
       "    .dataframe thead th {\n",
       "        text-align: left;\n",
       "    }\n",
       "\n",
       "    .dataframe tbody tr th {\n",
       "        vertical-align: top;\n",
       "    }\n",
       "</style>\n",
       "<table border=\"1\" class=\"dataframe\">\n",
       "  <thead>\n",
       "    <tr style=\"text-align: right;\">\n",
       "      <th></th>\n",
       "      <th>truck_name</th>\n",
       "      <th>date_fixed</th>\n",
       "      <th>address</th>\n",
       "      <th>longitude</th>\n",
       "      <th>latitude</th>\n",
       "    </tr>\n",
       "  </thead>\n",
       "  <tbody>\n",
       "    <tr>\n",
       "      <th>8427</th>\n",
       "      <td>178</td>\n",
       "      <td>2018-01-01 05:15:20</td>\n",
       "      <td>1200 CANAL ST</td>\n",
       "      <td>-76.108890</td>\n",
       "      <td>43.055110</td>\n",
       "    </tr>\n",
       "    <tr>\n",
       "      <th>8542</th>\n",
       "      <td>178</td>\n",
       "      <td>2018-01-01 05:15:22</td>\n",
       "      <td>1200 CANAL ST</td>\n",
       "      <td>-76.108890</td>\n",
       "      <td>43.055110</td>\n",
       "    </tr>\n",
       "    <tr>\n",
       "      <th>8547</th>\n",
       "      <td>178</td>\n",
       "      <td>2018-01-01 05:16:22</td>\n",
       "      <td>1200 CANAL ST</td>\n",
       "      <td>-76.108890</td>\n",
       "      <td>43.055110</td>\n",
       "    </tr>\n",
       "    <tr>\n",
       "      <th>8552</th>\n",
       "      <td>178</td>\n",
       "      <td>2018-01-01 05:17:22</td>\n",
       "      <td>1200 CANAL ST</td>\n",
       "      <td>-76.108805</td>\n",
       "      <td>43.055128</td>\n",
       "    </tr>\n",
       "    <tr>\n",
       "      <th>8648</th>\n",
       "      <td>178</td>\n",
       "      <td>2018-01-01 05:18:22</td>\n",
       "      <td>1200 CANAL ST</td>\n",
       "      <td>-76.108779</td>\n",
       "      <td>43.055191</td>\n",
       "    </tr>\n",
       "  </tbody>\n",
       "</table>\n",
       "</div>"
      ],
      "text/plain": [
       "     truck_name          date_fixed        address  longitude   latitude\n",
       "8427        178 2018-01-01 05:15:20  1200 CANAL ST -76.108890  43.055110\n",
       "8542        178 2018-01-01 05:15:22  1200 CANAL ST -76.108890  43.055110\n",
       "8547        178 2018-01-01 05:16:22  1200 CANAL ST -76.108890  43.055110\n",
       "8552        178 2018-01-01 05:17:22  1200 CANAL ST -76.108805  43.055128\n",
       "8648        178 2018-01-01 05:18:22  1200 CANAL ST -76.108779  43.055191"
      ]
     },
     "execution_count": 11,
     "metadata": {},
     "output_type": "execute_result"
    }
   ],
   "source": [
    "df.head()"
   ]
  },
  {
   "cell_type": "code",
   "execution_count": 12,
   "metadata": {
    "collapsed": true
   },
   "outputs": [],
   "source": [
    "# get the manhattan distance between consecutive data points\n",
    "df['manh_dist'] = abs(df.longitude - df.longitude.shift()) + abs(df.latitude - df.latitude.shift())"
   ]
  },
  {
   "cell_type": "code",
   "execution_count": 13,
   "metadata": {
    "scrolled": true
   },
   "outputs": [
    {
     "data": {
      "text/plain": [
       "truck_name    239\n",
       "date_fixed    239\n",
       "address       236\n",
       "longitude     239\n",
       "latitude      239\n",
       "manh_dist     239\n",
       "dtype: int64"
      ]
     },
     "execution_count": 13,
     "metadata": {},
     "output_type": "execute_result"
    }
   ],
   "source": [
    "df[df.manh_dist > .01].count()"
   ]
  },
  {
   "cell_type": "code",
   "execution_count": 14,
   "metadata": {},
   "outputs": [
    {
     "name": "stdout",
     "output_type": "stream",
     "text": [
      "<class 'pandas.core.frame.DataFrame'>\n",
      "Int64Index: 39784 entries, 8427 to 34783\n",
      "Data columns (total 6 columns):\n",
      "truck_name    39784 non-null object\n",
      "date_fixed    39784 non-null datetime64[ns]\n",
      "address       38861 non-null object\n",
      "longitude     39784 non-null float64\n",
      "latitude      39784 non-null float64\n",
      "manh_dist     39783 non-null float64\n",
      "dtypes: datetime64[ns](1), float64(3), object(2)\n",
      "memory usage: 2.1+ MB\n"
     ]
    }
   ],
   "source": [
    "df.info()"
   ]
  },
  {
   "cell_type": "code",
   "execution_count": 15,
   "metadata": {},
   "outputs": [
    {
     "data": {
      "text/plain": [
       "truck_name\n",
       "178     1722\n",
       "179     1682\n",
       "182        6\n",
       "206      143\n",
       "207        1\n",
       "208        1\n",
       "210     1285\n",
       "211        1\n",
       "212     1288\n",
       "216     4065\n",
       "251     3811\n",
       "253        1\n",
       "254       47\n",
       "257        1\n",
       "258      626\n",
       "259       27\n",
       "260.       1\n",
       "261     3341\n",
       "262        1\n",
       "263     3272\n",
       "264     2364\n",
       "265     3461\n",
       "266     2004\n",
       "267        1\n",
       "268      686\n",
       "269        1\n",
       "270        6\n",
       "271     2398\n",
       "282     2203\n",
       "284     2234\n",
       "285     2667\n",
       "73       437\n",
       "dtype: int64"
      ]
     },
     "execution_count": 15,
     "metadata": {},
     "output_type": "execute_result"
    }
   ],
   "source": [
    "#how many data points per truck\n",
    "df.groupby('truck_name').size()"
   ]
  },
  {
   "cell_type": "markdown",
   "metadata": {},
   "source": [
    "# Left off here. Create an 'ID' column, which is a mapping from a point to a road segment"
   ]
  },
  {
   "cell_type": "code",
   "execution_count": 16,
   "metadata": {
    "collapsed": true
   },
   "outputs": [],
   "source": [
    "objID_to_bnd_box = pickle.load( open( \"ID_to_bound_box\", \"rb\" ) )"
   ]
  },
  {
   "cell_type": "code",
   "execution_count": 21,
   "metadata": {},
   "outputs": [],
   "source": [
    "#test iterrows; delete eventually\n",
    "tst2 = []\n",
    "for index, row in df.iterrows():\n",
    "    tst2.append([index,row])\n",
    "    "
   ]
  },
  {
   "cell_type": "code",
   "execution_count": 30,
   "metadata": {},
   "outputs": [
    {
     "data": {
      "text/plain": [
       "[8873, truck_name                    178\n",
       " date_fixed    2018-01-01 05:24:22\n",
       " address             1200 CANAL ST\n",
       " longitude                -76.1087\n",
       " latitude                  43.0552\n",
       " manh_dist                5.44e-05\n",
       " Name: 8873, dtype: object]"
      ]
     },
     "execution_count": 30,
     "metadata": {},
     "output_type": "execute_result"
    }
   ],
   "source": [
    "# an index and row\n",
    "tst2[10]"
   ]
  },
  {
   "cell_type": "code",
   "execution_count": 36,
   "metadata": {},
   "outputs": [
    {
     "data": {
      "text/plain": [
       "truck_name                    178\n",
       "date_fixed    2018-01-01 05:24:22\n",
       "address             1200 CANAL ST\n",
       "longitude                -76.1087\n",
       "latitude                  43.0552\n",
       "manh_dist                5.44e-05\n",
       "Name: 8873, dtype: object"
      ]
     },
     "execution_count": 36,
     "metadata": {},
     "output_type": "execute_result"
    }
   ],
   "source": [
    "# a row (as a Series)\n",
    "tst2[10][1]"
   ]
  },
  {
   "cell_type": "code",
   "execution_count": 38,
   "metadata": {},
   "outputs": [
    {
     "data": {
      "text/plain": [
       "43.0432602080756"
      ]
     },
     "execution_count": 38,
     "metadata": {},
     "output_type": "execute_result"
    }
   ],
   "source": [
    "tst2[1000][1].latitude"
   ]
  },
  {
   "cell_type": "code",
   "execution_count": 46,
   "metadata": {},
   "outputs": [
    {
     "data": {
      "text/plain": [
       "[[-76.1443080869106, 43.0825212790999], [-76.1449873163995, 43.0832022957928]]"
      ]
     },
     "execution_count": 46,
     "metadata": {},
     "output_type": "execute_result"
    }
   ],
   "source": [
    "objID_to_bnd_box[10]"
   ]
  },
  {
   "cell_type": "markdown",
   "metadata": {},
   "source": [
    "## Left off here. How to incrementally add values to the not yet created 'ID' column?"
   ]
  },
  {
   "cell_type": "code",
   "execution_count": 39,
   "metadata": {
    "collapsed": true
   },
   "outputs": [],
   "source": [
    "for idx,row in df.iterrows():\n",
    "    coords = [row.longitude, row.latitude]\n",
    "    for k,v in objID_to_bnd_box.items():\n",
    "        if (row.longitude > min(v[0][0],vv[1][0]) and row.longitude < max(v[0][0],vv[1][0])\n",
    "                                                                      and row.latitude > min(v[0][1],vv[1][1])\n",
    "                                                                      and row.latitude < max(v[0][1],vv[1][1]) ):\n",
    "            df['ID'] = \n",
    "    "
   ]
  },
  {
   "cell_type": "markdown",
   "metadata": {},
   "source": [
    "# Below here is not used"
   ]
  },
  {
   "cell_type": "code",
   "execution_count": 116,
   "metadata": {
    "collapsed": true
   },
   "outputs": [],
   "source": [
    "#NOT USED; generate test dataframe\n",
    "test_row_iter = pd.DataFrame(np.random.randn(20,3),columns=list('ABC'))"
   ]
  },
  {
   "cell_type": "code",
   "execution_count": 118,
   "metadata": {
    "collapsed": true
   },
   "outputs": [],
   "source": [
    "#NOT USED\n",
    "#for testing: set column C to absolute values\n",
    "test_row_iter['C'] = abs(test_row_iter['C'])"
   ]
  },
  {
   "cell_type": "code",
   "execution_count": 85,
   "metadata": {
    "collapsed": true
   },
   "outputs": [],
   "source": [
    "#NOT USED\n",
    "#how to iterate over rows and set a boolean value based on a conditional\n",
    "for i in range(1,len(test_row_iter)):\n",
    "    if test_row_iter.loc[i, 'C'] > 0:\n",
    "        test_row_iter.loc[i,'D'] = True"
   ]
  },
  {
   "cell_type": "code",
   "execution_count": 120,
   "metadata": {
    "collapsed": true
   },
   "outputs": [],
   "source": [
    "#NOT USED\n",
    "#set first boolean of the 'Keep' column to 'True', since we always want to keep the first data point\n",
    "test_row_iter.loc[0,'Keep'] = True\n",
    "#create a boolean column based on an the accumulated value of a column\n",
    "threshhold = 2.\n",
    "cum_dist = 0.\n",
    "for i in range(1,len(test_row_iter)):\n",
    "    if test_row_iter.loc[i, 'C'] + cum_dist > threshhold:\n",
    "        test_row_iter.loc[i,'Keep'] = True\n",
    "        cum_dist = 0\n",
    "    else:\n",
    "        test_row_iter.loc[i,'Keep'] = False\n",
    "        cum_dist += test_row_iter.loc[i, 'C']\n",
    "            "
   ]
  },
  {
   "cell_type": "code",
   "execution_count": 127,
   "metadata": {
    "collapsed": true
   },
   "outputs": [],
   "source": [
    "#NOT USED\n",
    "test_row_iter = test_row_iter[test_row_iter.Keep == True]"
   ]
  },
  {
   "cell_type": "code",
   "execution_count": null,
   "metadata": {
    "collapsed": true
   },
   "outputs": [],
   "source": []
  }
 ],
 "metadata": {
  "kernelspec": {
   "display_name": "Python 3",
   "language": "python",
   "name": "python3"
  },
  "language_info": {
   "codemirror_mode": {
    "name": "ipython",
    "version": 3
   },
   "file_extension": ".py",
   "mimetype": "text/x-python",
   "name": "python",
   "nbconvert_exporter": "python",
   "pygments_lexer": "ipython3",
   "version": "3.6.3"
  }
 },
 "nbformat": 4,
 "nbformat_minor": 2
}
