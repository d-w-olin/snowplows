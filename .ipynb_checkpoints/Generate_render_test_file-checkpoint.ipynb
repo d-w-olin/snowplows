{
 "cells": [
  {
   "cell_type": "markdown",
   "metadata": {},
   "source": [
    "## Build a test data set with the following format, which maps a road segment to time lapse values, in hours: \n",
    "### [ {\"ID\":  \"1\" , \"LT\" : [\"null\", \"null\", 0, 1, 2, 3, 4, 5, 6, 7, 0, 1, 3, 4, ............]}, {}, {}, {}, {} ]"
   ]
  },
  {
   "cell_type": "code",
   "execution_count": 3,
   "metadata": {
    "collapsed": true
   },
   "outputs": [],
   "source": [
    "import numpy as np\n",
    "import pandas as pd\n",
    "import json\n",
    "import random"
   ]
  },
  {
   "cell_type": "code",
   "execution_count": 4,
   "metadata": {
    "collapsed": true
   },
   "outputs": [],
   "source": [
    "#generate a list simulating elapsed times since road has been plowed\n",
    "#data format: \n",
    "def get_time_list():\n",
    "    temp_list = []\n",
    "    #temp_list.append(\"null\")\n",
    "    for i in range(48):\n",
    "        #first 2 hours has 33% chance of being plowed\n",
    "        #print (\"i = \" + str(i) )\n",
    "        if i == 0:\n",
    "            #print (\"I 0 loop\")\n",
    "            if np.random.choice(5) != 0:\n",
    "                temp_list.append(\"null\")\n",
    "            else:\n",
    "                temp_list.append(0)\n",
    "        # 2nd through 8th hours have 33% chance of being plowed, otherwise, increment by 2\n",
    "        elif i>0 and i<5:\n",
    "            #print (\"I is 1-3\")\n",
    "            if temp_list[i-1] == \"null\":\n",
    "                if np.random.choice(5) != 0:\n",
    "                    temp_list.append(\"null\")\n",
    "                else:\n",
    "                    temp_list.append(0)\n",
    "            else:\n",
    "                temp_list.append(temp_list[i-1] + 2)\n",
    "                \n",
    "        # greater than 4th hour\n",
    "        else:\n",
    "            #print (\"I is > 4\")\n",
    "            if temp_list[i-1] == \"null\":\n",
    "                temp_list.append(0)\n",
    "            else:\n",
    "                if temp_list[i-1] < 12:\n",
    "                    temp_list.append(temp_list[i-1] + 2)\n",
    "                else:\n",
    "                    if np.asscalar(np.random.choice(2,1,p=[(i/47.),((47.-i) / 47.)]) ) != 0:\n",
    "                        temp_list.append(0)\n",
    "                    else:\n",
    "                        temp_list.append(temp_list[i-1] + 2)\n",
    "    return temp_list"
   ]
  },
  {
   "cell_type": "code",
   "execution_count": 5,
   "metadata": {},
   "outputs": [
    {
     "name": "stdout",
     "output_type": "stream",
     "text": [
      "48\n"
     ]
    }
   ],
   "source": [
    "print (len(get_time_list()))"
   ]
  },
  {
   "cell_type": "code",
   "execution_count": 6,
   "metadata": {
    "collapsed": true
   },
   "outputs": [],
   "source": [
    "#build jSON array\n",
    "lapse_time = []\n",
    "for i in range(1,5651):\n",
    "    time_list = get_time_list()\n",
    "    d = {\"ID\":str(i), \"LT\": time_list}\n",
    "    lapse_time.append(d)\n",
    "    "
   ]
  },
  {
   "cell_type": "code",
   "execution_count": 8,
   "metadata": {},
   "outputs": [
    {
     "name": "stdout",
     "output_type": "stream",
     "text": [
      "{'ID': '51', 'LT': ['null', 'null', 'null', 0, 2, 4, 6, 8, 10, 12, 0, 2, 4, 6, 8, 10, 12, 14, 0, 2, 4, 6, 8, 10, 12, 0, 2, 4, 6, 8, 10, 12, 14, 16, 18, 20, 22, 24, 26, 0, 2, 4, 6, 8, 10, 12, 14, 16]}\n"
     ]
    }
   ],
   "source": [
    "print (lapse_time[50])"
   ]
  },
  {
   "cell_type": "code",
   "execution_count": null,
   "metadata": {
    "collapsed": true
   },
   "outputs": [],
   "source": [
    "n=6\n",
    "[sum(x) for i in range(1000) ]"
   ]
  },
  {
   "cell_type": "code",
   "execution_count": 127,
   "metadata": {},
   "outputs": [
    {
     "name": "stdout",
     "output_type": "stream",
     "text": [
      "385\n"
     ]
    }
   ],
   "source": [
    "cnt = 0\n",
    "for i in range(1000):\n",
    "    n = 30\n",
    "    cnt += np.asscalar(np.random.choice(2,1,p=[(n/47.),((47-n) / 47.)]) )\n",
    "print (cnt)"
   ]
  },
  {
   "cell_type": "code",
   "execution_count": 148,
   "metadata": {
    "collapsed": true
   },
   "outputs": [],
   "source": [
    "with open(\"lapse_time.json\", \"w\") as text_file:\n",
    "    json.dump(lapse_time, text_file)"
   ]
  },
  {
   "cell_type": "code",
   "execution_count": 2,
   "metadata": {},
   "outputs": [
    {
     "data": {
      "text/plain": [
       "55"
      ]
     },
     "execution_count": 2,
     "metadata": {},
     "output_type": "execute_result"
    }
   ],
   "source": [
    "sum([x**2 for x in range(6)])"
   ]
  },
  {
   "cell_type": "code",
   "execution_count": null,
   "metadata": {
    "collapsed": true
   },
   "outputs": [],
   "source": []
  }
 ],
 "metadata": {
  "kernelspec": {
   "display_name": "Python 3",
   "language": "python",
   "name": "python3"
  },
  "language_info": {
   "codemirror_mode": {
    "name": "ipython",
    "version": 3
   },
   "file_extension": ".py",
   "mimetype": "text/x-python",
   "name": "python",
   "nbconvert_exporter": "python",
   "pygments_lexer": "ipython3",
   "version": "3.6.1"
  }
 },
 "nbformat": 4,
 "nbformat_minor": 2
}
