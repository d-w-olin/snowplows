{
 "cells": [
  {
   "cell_type": "code",
   "execution_count": 13,
   "metadata": {
    "collapsed": true
   },
   "outputs": [],
   "source": [
    "import numpy as np\n",
    "import pandas as pd\n",
    "import json\n",
    "import random"
   ]
  },
  {
   "cell_type": "code",
   "execution_count": 76,
   "metadata": {},
   "outputs": [],
   "source": [
    "#generate a list simulating elapsed times since road has been plowed\n",
    "def get_time_list():\n",
    "    temp_list = []\n",
    "    for i in range(24):\n",
    "        #first hour has 25% chance of not being plowed\n",
    "        if i == 0:\n",
    "            if np.random.choice(4) != 0:\n",
    "                temp_list.append(\"null\")\n",
    "            else:\n",
    "                temp_list.append(0)\n",
    "        # 2nd through 4th hours have 25% chance of being plowed, otherwise, increment by 1\n",
    "        elif i>0 and i<4:\n",
    "            if temp_list[i-1] == \"null\":\n",
    "                if np.random.choice(4) != 0:\n",
    "                    temp_list.append(\"null\")\n",
    "                else:\n",
    "                    temp_list.append(0)\n",
    "            else:\n",
    "                temp_list.append(temp_list[i-1] + 1)\n",
    "                \n",
    "        # greater than 4th hour\n",
    "        else:\n",
    "            if temp_list[i-1] == \"null\":\n",
    "                temp_list.append(0)\n",
    "            else:\n",
    "                if temp_list[i-1] < 6:\n",
    "                    temp_list.append(temp_list[i-1] + 1)\n",
    "                else:\n",
    "                    if np.asscalar(np.random.choice(2,1,p=[(i/24.),((24-i) / 24.)]) ) == 0:\n",
    "                        temp_list.append(0)\n",
    "                    else:\n",
    "                        temp_list.append(temp_list[i-1] + 1)\n",
    "    return temp_list"
   ]
  },
  {
   "cell_type": "code",
   "execution_count": 97,
   "metadata": {},
   "outputs": [
    {
     "data": {
      "text/plain": [
       "[0, 1, 2, 3, 4, 5, 6, 0, 1, 2, 3, 4, 5, 6, 0, 1, 2, 3, 4, 5, 6, 0, 1, 2]"
      ]
     },
     "execution_count": 97,
     "metadata": {},
     "output_type": "execute_result"
    }
   ],
   "source": [
    "get_time_list()"
   ]
  },
  {
   "cell_type": "code",
   "execution_count": 98,
   "metadata": {},
   "outputs": [],
   "source": [
    "#build jSON array\n",
    "lapse_time = []\n",
    "for i in range(1,5651):\n",
    "    time_list = get_time_list()\n",
    "    d = {\"ID\":str(i), \"LT\": time_list}\n",
    "    lapse_time.append(d)\n",
    "    "
   ]
  },
  {
   "cell_type": "code",
   "execution_count": 100,
   "metadata": {},
   "outputs": [],
   "source": [
    "with open(\"lapse_time.json\", \"w\") as text_file:\n",
    "    json.dump(lapse_time, text_file)"
   ]
  },
  {
   "cell_type": "code",
   "execution_count": 14,
   "metadata": {
    "collapsed": true
   },
   "outputs": [],
   "source": [
    "n = 7."
   ]
  },
  {
   "cell_type": "code",
   "execution_count": 21,
   "metadata": {},
   "outputs": [
    {
     "data": {
      "text/plain": [
       "0"
      ]
     },
     "execution_count": 21,
     "metadata": {},
     "output_type": "execute_result"
    }
   ],
   "source": [
    "\n",
    "np.asscalar(np.random.choice(2,1,p=[(i/20.),((20-i) / 20.)]) )"
   ]
  },
  {
   "cell_type": "code",
   "execution_count": 22,
   "metadata": {},
   "outputs": [
    {
     "data": {
      "text/plain": [
       "False"
      ]
     },
     "execution_count": 22,
     "metadata": {},
     "output_type": "execute_result"
    }
   ],
   "source": [
    "4 == \"null\""
   ]
  },
  {
   "cell_type": "code",
   "execution_count": 23,
   "metadata": {},
   "outputs": [
    {
     "data": {
      "text/plain": [
       "False"
      ]
     },
     "execution_count": 23,
     "metadata": {},
     "output_type": "execute_result"
    }
   ],
   "source": [
    "0 == \"null\""
   ]
  },
  {
   "cell_type": "code",
   "execution_count": null,
   "metadata": {
    "collapsed": true
   },
   "outputs": [],
   "source": []
  }
 ],
 "metadata": {
  "kernelspec": {
   "display_name": "Python 3",
   "language": "python",
   "name": "python3"
  },
  "language_info": {
   "codemirror_mode": {
    "name": "ipython",
    "version": 3
   },
   "file_extension": ".py",
   "mimetype": "text/x-python",
   "name": "python",
   "nbconvert_exporter": "python",
   "pygments_lexer": "ipython3",
   "version": "3.6.1"
  }
 },
 "nbformat": 4,
 "nbformat_minor": 2
}
