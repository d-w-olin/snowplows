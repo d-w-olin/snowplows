{
 "cells": [
  {
   "cell_type": "code",
   "execution_count": 1,
   "metadata": {
    "collapsed": true
   },
   "outputs": [],
   "source": [
    "import json"
   ]
  },
  {
   "cell_type": "code",
   "execution_count": 3,
   "metadata": {},
   "outputs": [],
   "source": [
    "with open('City_Streets_2011.geojson') as f_in:\n",
    "    data = json.load(f_in)"
   ]
  },
  {
   "cell_type": "code",
   "execution_count": 13,
   "metadata": {},
   "outputs": [
    {
     "data": {
      "text/plain": [
       "5650"
      ]
     },
     "execution_count": 13,
     "metadata": {},
     "output_type": "execute_result"
    }
   ],
   "source": [
    "#How many features (i.e. road segments)\n",
    "len(data['features'])"
   ]
  },
  {
   "cell_type": "code",
   "execution_count": 14,
   "metadata": {},
   "outputs": [
    {
     "name": "stdout",
     "output_type": "stream",
     "text": [
      "3959\n"
     ]
    }
   ],
   "source": [
    "#Number features with 2 coords\n",
    "cnt = 0\n",
    "for each in data['features']:\n",
    "    if len(each['geometry']['coordinates']) == 2:\n",
    "        cnt += 1\n",
    "print (cnt)"
   ]
  },
  {
   "cell_type": "code",
   "execution_count": 15,
   "metadata": {},
   "outputs": [
    {
     "name": "stdout",
     "output_type": "stream",
     "text": [
      "1691\n"
     ]
    }
   ],
   "source": [
    "#Number features with >2 coords (e.g. circular road segments)\n",
    "cnt = 0\n",
    "for each in data['features']:\n",
    "    if len(each['geometry']['coordinates']) > 2:\n",
    "        cnt += 1\n",
    "print (cnt)"
   ]
  },
  {
   "cell_type": "code",
   "execution_count": 16,
   "metadata": {
    "collapsed": true
   },
   "outputs": [],
   "source": [
    "test_list = [[-76.1505499459102,43.0820257566861],[-76.1493841368104,43.0827927099946],[-76.148718240551,43.0833314101819],\n",
    "             [-76.148097930336,43.0838404394666]]"
   ]
  },
  {
   "cell_type": "code",
   "execution_count": 23,
   "metadata": {},
   "outputs": [],
   "source": [
    "#INPUT: list of coordinates forming a path\n",
    "#OUTPUT: list of 2 coordinates which create the bounding box of all the input coordinates\n",
    "def create_bound_box(arr):\n",
    "    lon = []\n",
    "    lat = []\n",
    "    for each in arr:\n",
    "        lon.append(each[0])\n",
    "        lat.append(each[1])\n",
    "    return [[max(lon),max(lat)],[min(lon),min(lat)]]\n",
    "        \n",
    "        "
   ]
  },
  {
   "cell_type": "code",
   "execution_count": 35,
   "metadata": {},
   "outputs": [
    {
     "data": {
      "text/plain": [
       "[[-76.148097930336, 43.0838404394666], [-76.1505499459102, 43.0820257566861]]"
      ]
     },
     "execution_count": 35,
     "metadata": {},
     "output_type": "execute_result"
    }
   ],
   "source": [
    "#test the function\n",
    "create_bound_box(test_list)"
   ]
  },
  {
   "cell_type": "code",
   "execution_count": 26,
   "metadata": {},
   "outputs": [
    {
     "name": "stdout",
     "output_type": "stream",
     "text": [
      "650\n"
     ]
    }
   ],
   "source": [
    "#making sure 'OBJECTID' is unique and matches the number of features\n",
    "cnt = 0\n",
    "for each in data['features']:\n",
    "    if each['properties']['OBJECTID'] > 5000:\n",
    "        cnt += 1\n",
    "print (cnt)"
   ]
  },
  {
   "cell_type": "code",
   "execution_count": 31,
   "metadata": {},
   "outputs": [],
   "source": [
    "#for each feature (road segment), if a path of multiple coords, convert to a bounding box of 2 coords. Store results in a\n",
    "#list of format: [ [OBJECTID, [ [lon1,lat1],[lon2,lon2] ] ] ]\n",
    "objID_to_bnd_box = []\n",
    "for each in data['features']:\n",
    "    if len(each['geometry']['coordinates']) == 2:\n",
    "        objID_to_bnd_box.append([each['properties']['OBJECTID'],each['geometry']['coordinates']])\n",
    "    else:\n",
    "        objID_to_bnd_box.append([each['properties']['OBJECTID'],create_bound_box(each['geometry']['coordinates'])])\n"
   ]
  },
  {
   "cell_type": "code",
   "execution_count": 34,
   "metadata": {},
   "outputs": [
    {
     "name": "stdout",
     "output_type": "stream",
     "text": [
      "T\n"
     ]
    }
   ],
   "source": [
    "#check if exactly two items in each sublist (i.e. OBJECTID and list of coords)\n",
    "for each in objID_to_bnd_box:\n",
    "    if len(each) != 2:\n",
    "        print ('F')\n",
    "print ('T')    "
   ]
  },
  {
   "cell_type": "code",
   "execution_count": null,
   "metadata": {
    "collapsed": true
   },
   "outputs": [],
   "source": [
    "#INPUT: 1) DataFrame, which includes coordinates at certain times 2) file containing OBJECTID and corresponding bounding box \n",
    "#          info \n",
    "#OUTPUT: Dictionary of format: {[time_plowed,OBJECTID],[time_plowed,OBJECTID],......}\n"
   ]
  }
 ],
 "metadata": {
  "kernelspec": {
   "display_name": "Python 3",
   "language": "python",
   "name": "python3"
  },
  "language_info": {
   "codemirror_mode": {
    "name": "ipython",
    "version": 3
   },
   "file_extension": ".py",
   "mimetype": "text/x-python",
   "name": "python",
   "nbconvert_exporter": "python",
   "pygments_lexer": "ipython3",
   "version": "3.6.1"
  }
 },
 "nbformat": 4,
 "nbformat_minor": 2
}
