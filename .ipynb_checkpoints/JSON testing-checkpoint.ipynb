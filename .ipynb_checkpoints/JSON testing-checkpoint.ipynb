{
 "cells": [
  {
   "cell_type": "code",
   "execution_count": 36,
   "metadata": {
    "collapsed": true
   },
   "outputs": [],
   "source": [
    "import json\n",
    "import numpy as np\n",
    "import pandas as pd"
   ]
  },
  {
   "cell_type": "code",
   "execution_count": null,
   "metadata": {
    "collapsed": true
   },
   "outputs": [],
   "source": [
    "#read in; had to use converters b/c the truck names had mixed types\n",
    "df = pd.read_json()"
   ]
  },
  {
   "cell_type": "code",
   "execution_count": 3,
   "metadata": {},
   "outputs": [],
   "source": [
    "with open('City_Streets_2011.geojson') as f_in:\n",
    "    data = json.load(f_in)"
   ]
  },
  {
   "cell_type": "code",
   "execution_count": 13,
   "metadata": {},
   "outputs": [
    {
     "data": {
      "text/plain": [
       "5650"
      ]
     },
     "execution_count": 13,
     "metadata": {},
     "output_type": "execute_result"
    }
   ],
   "source": [
    "#How many features (i.e. road segments)\n",
    "len(data['features'])"
   ]
  },
  {
   "cell_type": "code",
   "execution_count": 14,
   "metadata": {},
   "outputs": [
    {
     "name": "stdout",
     "output_type": "stream",
     "text": [
      "3959\n"
     ]
    }
   ],
   "source": [
    "#Number features with 2 coords\n",
    "cnt = 0\n",
    "for each in data['features']:\n",
    "    if len(each['geometry']['coordinates']) == 2:\n",
    "        cnt += 1\n",
    "print (cnt)"
   ]
  },
  {
   "cell_type": "code",
   "execution_count": 15,
   "metadata": {},
   "outputs": [
    {
     "name": "stdout",
     "output_type": "stream",
     "text": [
      "1691\n"
     ]
    }
   ],
   "source": [
    "#Number features with >2 coords (e.g. circular road segments)\n",
    "cnt = 0\n",
    "for each in data['features']:\n",
    "    if len(each['geometry']['coordinates']) > 2:\n",
    "        cnt += 1\n",
    "print (cnt)"
   ]
  },
  {
   "cell_type": "code",
   "execution_count": 16,
   "metadata": {
    "collapsed": true
   },
   "outputs": [],
   "source": [
    "test_list = [[-76.1505499459102,43.0820257566861],[-76.1493841368104,43.0827927099946],[-76.148718240551,43.0833314101819],\n",
    "             [-76.148097930336,43.0838404394666]]"
   ]
  },
  {
   "cell_type": "code",
   "execution_count": 23,
   "metadata": {},
   "outputs": [],
   "source": [
    "#INPUT: list of coordinates forming a path\n",
    "#OUTPUT: list of 2 coordinates which create the bounding box of all the input coordinates\n",
    "def create_bound_box(arr):\n",
    "    lon = []\n",
    "    lat = []\n",
    "    for each in arr:\n",
    "        lon.append(each[0])\n",
    "        lat.append(each[1])\n",
    "    return [[max(lon),max(lat)],[min(lon),min(lat)]]\n",
    "        \n",
    "        "
   ]
  },
  {
   "cell_type": "code",
   "execution_count": 35,
   "metadata": {},
   "outputs": [
    {
     "data": {
      "text/plain": [
       "[[-76.148097930336, 43.0838404394666], [-76.1505499459102, 43.0820257566861]]"
      ]
     },
     "execution_count": 35,
     "metadata": {},
     "output_type": "execute_result"
    }
   ],
   "source": [
    "#test the function\n",
    "create_bound_box(test_list)"
   ]
  },
  {
   "cell_type": "code",
   "execution_count": 26,
   "metadata": {},
   "outputs": [
    {
     "name": "stdout",
     "output_type": "stream",
     "text": [
      "650\n"
     ]
    }
   ],
   "source": [
    "#making sure 'OBJECTID' is unique and matches the number of features\n",
    "cnt = 0\n",
    "for each in data['features']:\n",
    "    if each['properties']['OBJECTID'] > 5000:\n",
    "        cnt += 1\n",
    "print (cnt)"
   ]
  },
  {
   "cell_type": "code",
   "execution_count": 31,
   "metadata": {},
   "outputs": [],
   "source": [
    "#for each feature (road segment), if a path of multiple coords, convert to a bounding box of 2 coords. Store results in a\n",
    "#list of format: [ [OBJECTID, [ [lon1,lat1],[lon2,lon2] ] ] ]\n",
    "#This is a mapping from the OBJECTID in the GeoJSON file to its bounding box\n",
    "objID_to_bnd_box = []\n",
    "for each in data['features']:\n",
    "    if len(each['geometry']['coordinates']) == 2:\n",
    "        objID_to_bnd_box.append([each['properties']['OBJECTID'],each['geometry']['coordinates']])\n",
    "    else:\n",
    "        objID_to_bnd_box.append([each['properties']['OBJECTID'],create_bound_box(each['geometry']['coordinates'])])\n"
   ]
  },
  {
   "cell_type": "code",
   "execution_count": 34,
   "metadata": {},
   "outputs": [
    {
     "name": "stdout",
     "output_type": "stream",
     "text": [
      "T\n"
     ]
    }
   ],
   "source": [
    "#check if exactly two items in each sublist (i.e. OBJECTID and list of coords)\n",
    "for each in objID_to_bnd_box:\n",
    "    if len(each) != 2:\n",
    "        print ('F')\n",
    "print ('T')    "
   ]
  },
  {
   "cell_type": "code",
   "execution_count": 40,
   "metadata": {},
   "outputs": [
    {
     "data": {
      "text/plain": [
       "[[1,\n",
       "  [[-76.1473078794914, 43.0842658182288],\n",
       "   [-76.1469944156617, 43.0846226959286]]],\n",
       " [2,\n",
       "  [[-76.1594466884228, 43.0861750438948],\n",
       "   [-76.1623990676457, 43.0841285667857]]],\n",
       " [3,\n",
       "  [[-76.1473684899511, 43.0847921812469],\n",
       "   [-76.148097930336, 43.0838404394666]]],\n",
       " [4,\n",
       "  [[-76.1478537300853, 43.0836676774939],\n",
       "   [-76.1473078794914, 43.0842658182288]]]]"
      ]
     },
     "execution_count": 40,
     "metadata": {},
     "output_type": "execute_result"
    }
   ],
   "source": [
    "objID_to_bnd_box[0:4]"
   ]
  },
  {
   "cell_type": "code",
   "execution_count": null,
   "metadata": {
    "collapsed": true
   },
   "outputs": [],
   "source": [
    "#INPUT: 1) DataFrame, which includes coordinates at certain times 2) file containing OBJECTID and corresponding bounding box \n",
    "#          info \n",
    "#OUTPUT: Dictionary of format: {[time_plowed,OBJECTID],[time_plowed,OBJECTID],......}\n"
   ]
  },
  {
   "cell_type": "code",
   "execution_count": 80,
   "metadata": {
    "collapsed": true
   },
   "outputs": [],
   "source": [
    "times = [ time for time in range(100,86400,864)]"
   ]
  },
  {
   "cell_type": "code",
   "execution_count": 81,
   "metadata": {},
   "outputs": [],
   "source": [
    "epoch_times = [np.asscalar(1519534919 - time) for time in np.random.choice(times,100,replace=False)]"
   ]
  },
  {
   "cell_type": "code",
   "execution_count": 82,
   "metadata": {
    "collapsed": true
   },
   "outputs": [],
   "source": [
    "ID = [ ints for ints in range(600,700)]"
   ]
  },
  {
   "cell_type": "code",
   "execution_count": 83,
   "metadata": {},
   "outputs": [],
   "source": [
    "objIDs = [np.asscalar(ints) for ints in np.random.choice(ID,100,replace=True)] "
   ]
  },
  {
   "cell_type": "code",
   "execution_count": 84,
   "metadata": {},
   "outputs": [
    {
     "data": {
      "text/plain": [
       "int"
      ]
     },
     "execution_count": 84,
     "metadata": {},
     "output_type": "execute_result"
    }
   ],
   "source": [
    "type(epoch_times[10])"
   ]
  },
  {
   "cell_type": "code",
   "execution_count": 107,
   "metadata": {},
   "outputs": [
    {
     "data": {
      "text/plain": [
       "1519534819"
      ]
     },
     "execution_count": 107,
     "metadata": {},
     "output_type": "execute_result"
    }
   ],
   "source": [
    "max(epoch_times)"
   ]
  },
  {
   "cell_type": "code",
   "execution_count": 108,
   "metadata": {},
   "outputs": [
    {
     "data": {
      "text/plain": [
       "1519449283"
      ]
     },
     "execution_count": 108,
     "metadata": {},
     "output_type": "execute_result"
    }
   ],
   "source": [
    "min(epoch_times)"
   ]
  },
  {
   "cell_type": "code",
   "execution_count": 102,
   "metadata": {
    "collapsed": true
   },
   "outputs": [],
   "source": [
    "json_array = []"
   ]
  },
  {
   "cell_type": "code",
   "execution_count": 103,
   "metadata": {},
   "outputs": [],
   "source": [
    "for i in range(100):\n",
    "    json_array.append({\"ObjectID\": str(objIDs[i]), \"Last_Time\": str(epoch_times[i]), \"isPlowed\": \"False\"})"
   ]
  },
  {
   "cell_type": "code",
   "execution_count": 105,
   "metadata": {},
   "outputs": [],
   "source": [
    "with open('json_test_data.txt', 'w') as outfile2:\n",
    "    json.dump(json_array,outfile2)"
   ]
  },
  {
   "cell_type": "code",
   "execution_count": null,
   "metadata": {
    "collapsed": true
   },
   "outputs": [],
   "source": []
  }
 ],
 "metadata": {
  "kernelspec": {
   "display_name": "Python 3",
   "language": "python",
   "name": "python3"
  },
  "language_info": {
   "codemirror_mode": {
    "name": "ipython",
    "version": 3
   },
   "file_extension": ".py",
   "mimetype": "text/x-python",
   "name": "python",
   "nbconvert_exporter": "python",
   "pygments_lexer": "ipython3",
   "version": "3.6.1"
  }
 },
 "nbformat": 4,
 "nbformat_minor": 2
}
