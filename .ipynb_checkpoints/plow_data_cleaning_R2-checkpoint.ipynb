{
 "cells": [
  {
   "cell_type": "code",
   "execution_count": 60,
   "metadata": {
    "collapsed": true
   },
   "outputs": [],
   "source": [
    "import numpy as np\n",
    "import pandas as pd\n",
    "import folium"
   ]
  },
  {
   "cell_type": "code",
   "execution_count": 82,
   "metadata": {},
   "outputs": [
    {
     "data": {
      "text/html": [
       "<div style=\"width:100%;\"><div style=\"position:relative;width:100%;height:0;padding-bottom:60%;\"><iframe src=\"data:text/html;charset=utf-8;base64,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\" style=\"position:absolute;width:100%;height:100%;left:0;top:0;border:none !important;\" allowfullscreen webkitallowfullscreen mozallowfullscreen></iframe></div></div>"
      ],
      "text/plain": [
       "<folium.folium.Map at 0x1d358eae320>"
      ]
     },
     "execution_count": 82,
     "metadata": {},
     "output_type": "execute_result"
    }
   ],
   "source": [
    "syr_map = folium.Map(location=[43.0493, -76.1455], zoom_start=12)\n",
    "syr_map"
   ]
  },
  {
   "cell_type": "code",
   "execution_count": 75,
   "metadata": {
    "collapsed": true
   },
   "outputs": [],
   "source": [
    "#read in; had to use converters b/c the truck names had mixed types\n",
    "df = pd.read_csv(\"plow20170313.csv\", converters={'truck_name': str})"
   ]
  },
  {
   "cell_type": "code",
   "execution_count": 76,
   "metadata": {
    "collapsed": true
   },
   "outputs": [],
   "source": [
    "# get rid of columns I don't need\n",
    "df2 = df[['truck_name','date_fixed','longitude','latitude']]"
   ]
  },
  {
   "cell_type": "code",
   "execution_count": 64,
   "metadata": {},
   "outputs": [
    {
     "data": {
      "text/html": [
       "<div>\n",
       "<style>\n",
       "    .dataframe thead tr:only-child th {\n",
       "        text-align: right;\n",
       "    }\n",
       "\n",
       "    .dataframe thead th {\n",
       "        text-align: left;\n",
       "    }\n",
       "\n",
       "    .dataframe tbody tr th {\n",
       "        vertical-align: top;\n",
       "    }\n",
       "</style>\n",
       "<table border=\"1\" class=\"dataframe\">\n",
       "  <thead>\n",
       "    <tr style=\"text-align: right;\">\n",
       "      <th></th>\n",
       "      <th>truck_name</th>\n",
       "      <th>date_fixed</th>\n",
       "      <th>longitude</th>\n",
       "      <th>latitude</th>\n",
       "    </tr>\n",
       "  </thead>\n",
       "  <tbody>\n",
       "    <tr>\n",
       "      <th>0</th>\n",
       "      <td>0</td>\n",
       "      <td>12:00:13 AM</td>\n",
       "      <td>-76.111185</td>\n",
       "      <td>43.055578</td>\n",
       "    </tr>\n",
       "    <tr>\n",
       "      <th>1</th>\n",
       "      <td>73</td>\n",
       "      <td>12:00:18 AM</td>\n",
       "      <td>-76.139755</td>\n",
       "      <td>43.009814</td>\n",
       "    </tr>\n",
       "    <tr>\n",
       "      <th>2</th>\n",
       "      <td>73</td>\n",
       "      <td>12:52:29 AM</td>\n",
       "      <td>-76.139254</td>\n",
       "      <td>43.009929</td>\n",
       "    </tr>\n",
       "    <tr>\n",
       "      <th>3</th>\n",
       "      <td>73</td>\n",
       "      <td>12:52:31 AM</td>\n",
       "      <td>-76.139254</td>\n",
       "      <td>43.009929</td>\n",
       "    </tr>\n",
       "    <tr>\n",
       "      <th>4</th>\n",
       "      <td>73</td>\n",
       "      <td>12:53:31 AM</td>\n",
       "      <td>-76.139254</td>\n",
       "      <td>43.009929</td>\n",
       "    </tr>\n",
       "  </tbody>\n",
       "</table>\n",
       "</div>"
      ],
      "text/plain": [
       "  truck_name   date_fixed  longitude   latitude\n",
       "0          0  12:00:13 AM -76.111185  43.055578\n",
       "1         73  12:00:18 AM -76.139755  43.009814\n",
       "2         73  12:52:29 AM -76.139254  43.009929\n",
       "3         73  12:52:31 AM -76.139254  43.009929\n",
       "4         73  12:53:31 AM -76.139254  43.009929"
      ]
     },
     "execution_count": 64,
     "metadata": {},
     "output_type": "execute_result"
    }
   ],
   "source": [
    "df2.head()"
   ]
  },
  {
   "cell_type": "code",
   "execution_count": 77,
   "metadata": {
    "collapsed": true
   },
   "outputs": [],
   "source": [
    "#sorted by truck then date/time\n",
    "df3 = df2.sort_values(by=['truck_name','date_fixed'],na_position='first')"
   ]
  },
  {
   "cell_type": "code",
   "execution_count": 66,
   "metadata": {
    "collapsed": true
   },
   "outputs": [],
   "source": [
    "# get the manhattan distance between consecutive data points\n",
    "df3['manh_dist'] = abs(df3.longitude - df3.longitude.shift()) + abs(df3.latitude - df3.latitude.shift())"
   ]
  },
  {
   "cell_type": "code",
   "execution_count": 78,
   "metadata": {
    "scrolled": true
   },
   "outputs": [
    {
     "data": {
      "text/plain": [
       "truck_name    13389\n",
       "date_fixed    13389\n",
       "longitude     13389\n",
       "latitude      13389\n",
       "dtype: int64"
      ]
     },
     "execution_count": 78,
     "metadata": {},
     "output_type": "execute_result"
    }
   ],
   "source": [
    "#total count of data points\n",
    "df3.count()"
   ]
  },
  {
   "cell_type": "code",
   "execution_count": 79,
   "metadata": {},
   "outputs": [
    {
     "data": {
      "text/plain": [
       "truck_name\n",
       "0         1\n",
       "178    1171\n",
       "179     521\n",
       "182      89\n",
       "206     257\n",
       "208     587\n",
       "210     595\n",
       "212       1\n",
       "216    1443\n",
       "253       1\n",
       "257       1\n",
       "258     172\n",
       "259     186\n",
       "261     440\n",
       "262     419\n",
       "263     706\n",
       "264     313\n",
       "265     640\n",
       "266     419\n",
       "267     677\n",
       "268     346\n",
       "269       1\n",
       "270     252\n",
       "271     236\n",
       "281       1\n",
       "282      32\n",
       "283    1883\n",
       "284     331\n",
       "285     764\n",
       "286     897\n",
       "73        7\n",
       "dtype: int64"
      ]
     },
     "execution_count": 79,
     "metadata": {},
     "output_type": "execute_result"
    }
   ],
   "source": [
    "#how many data points per truck\n",
    "df3.groupby('truck_name').size()"
   ]
  },
  {
   "cell_type": "code",
   "execution_count": 80,
   "metadata": {},
   "outputs": [
    {
     "data": {
      "text/html": [
       "<div>\n",
       "<style>\n",
       "    .dataframe thead tr:only-child th {\n",
       "        text-align: right;\n",
       "    }\n",
       "\n",
       "    .dataframe thead th {\n",
       "        text-align: left;\n",
       "    }\n",
       "\n",
       "    .dataframe tbody tr th {\n",
       "        vertical-align: top;\n",
       "    }\n",
       "</style>\n",
       "<table border=\"1\" class=\"dataframe\">\n",
       "  <thead>\n",
       "    <tr style=\"text-align: right;\">\n",
       "      <th></th>\n",
       "      <th>truck_name</th>\n",
       "      <th>date_fixed</th>\n",
       "      <th>longitude</th>\n",
       "      <th>latitude</th>\n",
       "    </tr>\n",
       "  </thead>\n",
       "  <tbody>\n",
       "    <tr>\n",
       "      <th>0</th>\n",
       "      <td>0</td>\n",
       "      <td>12:00:13 AM</td>\n",
       "      <td>-76.111185</td>\n",
       "      <td>43.055578</td>\n",
       "    </tr>\n",
       "    <tr>\n",
       "      <th>8</th>\n",
       "      <td>178</td>\n",
       "      <td>12:00:02 AM</td>\n",
       "      <td>-76.153367</td>\n",
       "      <td>43.048779</td>\n",
       "    </tr>\n",
       "    <tr>\n",
       "      <th>9</th>\n",
       "      <td>178</td>\n",
       "      <td>12:00:03 AM</td>\n",
       "      <td>-76.121124</td>\n",
       "      <td>43.054501</td>\n",
       "    </tr>\n",
       "    <tr>\n",
       "      <th>10</th>\n",
       "      <td>178</td>\n",
       "      <td>12:00:05 AM</td>\n",
       "      <td>-76.104686</td>\n",
       "      <td>43.056121</td>\n",
       "    </tr>\n",
       "    <tr>\n",
       "      <th>11</th>\n",
       "      <td>178</td>\n",
       "      <td>12:00:08 AM</td>\n",
       "      <td>-76.141248</td>\n",
       "      <td>43.009251</td>\n",
       "    </tr>\n",
       "    <tr>\n",
       "      <th>12</th>\n",
       "      <td>178</td>\n",
       "      <td>12:00:08 AM</td>\n",
       "      <td>-76.141215</td>\n",
       "      <td>43.009235</td>\n",
       "    </tr>\n",
       "    <tr>\n",
       "      <th>13</th>\n",
       "      <td>178</td>\n",
       "      <td>12:00:12 AM</td>\n",
       "      <td>-76.111877</td>\n",
       "      <td>43.055123</td>\n",
       "    </tr>\n",
       "    <tr>\n",
       "      <th>14</th>\n",
       "      <td>178</td>\n",
       "      <td>12:00:15 AM</td>\n",
       "      <td>-76.152460</td>\n",
       "      <td>43.048759</td>\n",
       "    </tr>\n",
       "    <tr>\n",
       "      <th>15</th>\n",
       "      <td>178</td>\n",
       "      <td>12:00:16 AM</td>\n",
       "      <td>-76.119454</td>\n",
       "      <td>43.070515</td>\n",
       "    </tr>\n",
       "    <tr>\n",
       "      <th>16</th>\n",
       "      <td>178</td>\n",
       "      <td>12:00:16 AM</td>\n",
       "      <td>-76.103784</td>\n",
       "      <td>43.054800</td>\n",
       "    </tr>\n",
       "    <tr>\n",
       "      <th>17</th>\n",
       "      <td>178</td>\n",
       "      <td>12:00:25 AM</td>\n",
       "      <td>-76.098819</td>\n",
       "      <td>43.056657</td>\n",
       "    </tr>\n",
       "    <tr>\n",
       "      <th>18</th>\n",
       "      <td>178</td>\n",
       "      <td>12:00:27 AM</td>\n",
       "      <td>-76.151310</td>\n",
       "      <td>43.048751</td>\n",
       "    </tr>\n",
       "    <tr>\n",
       "      <th>19</th>\n",
       "      <td>178</td>\n",
       "      <td>12:00:34 AM</td>\n",
       "      <td>-76.145895</td>\n",
       "      <td>43.074086</td>\n",
       "    </tr>\n",
       "    <tr>\n",
       "      <th>20</th>\n",
       "      <td>178</td>\n",
       "      <td>12:00:41 AM</td>\n",
       "      <td>-76.109840</td>\n",
       "      <td>43.055450</td>\n",
       "    </tr>\n",
       "    <tr>\n",
       "      <th>21</th>\n",
       "      <td>178</td>\n",
       "      <td>12:00:42 AM</td>\n",
       "      <td>-76.111441</td>\n",
       "      <td>43.055174</td>\n",
       "    </tr>\n",
       "    <tr>\n",
       "      <th>22</th>\n",
       "      <td>178</td>\n",
       "      <td>12:00:45 AM</td>\n",
       "      <td>-76.149450</td>\n",
       "      <td>43.048423</td>\n",
       "    </tr>\n",
       "    <tr>\n",
       "      <th>23</th>\n",
       "      <td>178</td>\n",
       "      <td>12:00:48 AM</td>\n",
       "      <td>-76.109777</td>\n",
       "      <td>43.055194</td>\n",
       "    </tr>\n",
       "    <tr>\n",
       "      <th>24</th>\n",
       "      <td>178</td>\n",
       "      <td>12:00:49 AM</td>\n",
       "      <td>-76.122978</td>\n",
       "      <td>43.072203</td>\n",
       "    </tr>\n",
       "    <tr>\n",
       "      <th>25</th>\n",
       "      <td>178</td>\n",
       "      <td>12:00:54 AM</td>\n",
       "      <td>-76.108729</td>\n",
       "      <td>43.056330</td>\n",
       "    </tr>\n",
       "    <tr>\n",
       "      <th>26</th>\n",
       "      <td>178</td>\n",
       "      <td>12:00:55 AM</td>\n",
       "      <td>-76.109881</td>\n",
       "      <td>43.055084</td>\n",
       "    </tr>\n",
       "    <tr>\n",
       "      <th>27</th>\n",
       "      <td>178</td>\n",
       "      <td>12:00:57 AM</td>\n",
       "      <td>-76.141208</td>\n",
       "      <td>43.009255</td>\n",
       "    </tr>\n",
       "    <tr>\n",
       "      <th>28</th>\n",
       "      <td>178</td>\n",
       "      <td>12:01:01 AM</td>\n",
       "      <td>-76.110211</td>\n",
       "      <td>43.055097</td>\n",
       "    </tr>\n",
       "    <tr>\n",
       "      <th>29</th>\n",
       "      <td>178</td>\n",
       "      <td>12:01:02 AM</td>\n",
       "      <td>-76.121425</td>\n",
       "      <td>43.054284</td>\n",
       "    </tr>\n",
       "    <tr>\n",
       "      <th>30</th>\n",
       "      <td>178</td>\n",
       "      <td>12:01:04 AM</td>\n",
       "      <td>-76.149355</td>\n",
       "      <td>43.047119</td>\n",
       "    </tr>\n",
       "    <tr>\n",
       "      <th>31</th>\n",
       "      <td>178</td>\n",
       "      <td>12:01:05 AM</td>\n",
       "      <td>-76.123124</td>\n",
       "      <td>43.072966</td>\n",
       "    </tr>\n",
       "    <tr>\n",
       "      <th>32</th>\n",
       "      <td>178</td>\n",
       "      <td>12:01:08 AM</td>\n",
       "      <td>-76.141255</td>\n",
       "      <td>43.009256</td>\n",
       "    </tr>\n",
       "    <tr>\n",
       "      <th>33</th>\n",
       "      <td>178</td>\n",
       "      <td>12:01:08 AM</td>\n",
       "      <td>-76.141210</td>\n",
       "      <td>43.009256</td>\n",
       "    </tr>\n",
       "    <tr>\n",
       "      <th>34</th>\n",
       "      <td>178</td>\n",
       "      <td>12:01:09 AM</td>\n",
       "      <td>-76.149538</td>\n",
       "      <td>43.047057</td>\n",
       "    </tr>\n",
       "    <tr>\n",
       "      <th>35</th>\n",
       "      <td>178</td>\n",
       "      <td>12:01:12 AM</td>\n",
       "      <td>-76.111874</td>\n",
       "      <td>43.055123</td>\n",
       "    </tr>\n",
       "    <tr>\n",
       "      <th>36</th>\n",
       "      <td>178</td>\n",
       "      <td>12:01:12 AM</td>\n",
       "      <td>-76.101746</td>\n",
       "      <td>43.054670</td>\n",
       "    </tr>\n",
       "    <tr>\n",
       "      <th>37</th>\n",
       "      <td>178</td>\n",
       "      <td>12:01:14 AM</td>\n",
       "      <td>-76.150017</td>\n",
       "      <td>43.047063</td>\n",
       "    </tr>\n",
       "    <tr>\n",
       "      <th>38</th>\n",
       "      <td>178</td>\n",
       "      <td>12:01:18 AM</td>\n",
       "      <td>-76.122970</td>\n",
       "      <td>43.073756</td>\n",
       "    </tr>\n",
       "    <tr>\n",
       "      <th>39</th>\n",
       "      <td>178</td>\n",
       "      <td>12:01:25 AM</td>\n",
       "      <td>-76.098831</td>\n",
       "      <td>43.056632</td>\n",
       "    </tr>\n",
       "    <tr>\n",
       "      <th>40</th>\n",
       "      <td>178</td>\n",
       "      <td>12:01:26 AM</td>\n",
       "      <td>-76.104068</td>\n",
       "      <td>43.055230</td>\n",
       "    </tr>\n",
       "    <tr>\n",
       "      <th>41</th>\n",
       "      <td>178</td>\n",
       "      <td>12:01:27 AM</td>\n",
       "      <td>-76.112126</td>\n",
       "      <td>43.055335</td>\n",
       "    </tr>\n",
       "    <tr>\n",
       "      <th>42</th>\n",
       "      <td>178</td>\n",
       "      <td>12:01:34 AM</td>\n",
       "      <td>-76.145882</td>\n",
       "      <td>43.074081</td>\n",
       "    </tr>\n",
       "    <tr>\n",
       "      <th>43</th>\n",
       "      <td>178</td>\n",
       "      <td>12:01:41 AM</td>\n",
       "      <td>-76.104180</td>\n",
       "      <td>43.055520</td>\n",
       "    </tr>\n",
       "    <tr>\n",
       "      <th>44</th>\n",
       "      <td>178</td>\n",
       "      <td>12:01:42 AM</td>\n",
       "      <td>-76.111453</td>\n",
       "      <td>43.055174</td>\n",
       "    </tr>\n",
       "    <tr>\n",
       "      <th>45</th>\n",
       "      <td>178</td>\n",
       "      <td>12:01:44 AM</td>\n",
       "      <td>-76.104458</td>\n",
       "      <td>43.055424</td>\n",
       "    </tr>\n",
       "    <tr>\n",
       "      <th>46</th>\n",
       "      <td>178</td>\n",
       "      <td>12:01:54 AM</td>\n",
       "      <td>-76.108729</td>\n",
       "      <td>43.056330</td>\n",
       "    </tr>\n",
       "    <tr>\n",
       "      <th>47</th>\n",
       "      <td>178</td>\n",
       "      <td>12:01:57 AM</td>\n",
       "      <td>-76.141177</td>\n",
       "      <td>43.009232</td>\n",
       "    </tr>\n",
       "    <tr>\n",
       "      <th>48</th>\n",
       "      <td>178</td>\n",
       "      <td>12:02:02 AM</td>\n",
       "      <td>-76.121425</td>\n",
       "      <td>43.054274</td>\n",
       "    </tr>\n",
       "    <tr>\n",
       "      <th>49</th>\n",
       "      <td>178</td>\n",
       "      <td>12:02:07 AM</td>\n",
       "      <td>-76.153822</td>\n",
       "      <td>43.047017</td>\n",
       "    </tr>\n",
       "    <tr>\n",
       "      <th>50</th>\n",
       "      <td>178</td>\n",
       "      <td>12:02:08 AM</td>\n",
       "      <td>-76.141268</td>\n",
       "      <td>43.009273</td>\n",
       "    </tr>\n",
       "    <tr>\n",
       "      <th>51</th>\n",
       "      <td>178</td>\n",
       "      <td>12:02:08 AM</td>\n",
       "      <td>-76.141214</td>\n",
       "      <td>43.009229</td>\n",
       "    </tr>\n",
       "    <tr>\n",
       "      <th>52</th>\n",
       "      <td>178</td>\n",
       "      <td>12:02:12 AM</td>\n",
       "      <td>-76.111891</td>\n",
       "      <td>43.055131</td>\n",
       "    </tr>\n",
       "    <tr>\n",
       "      <th>53</th>\n",
       "      <td>178</td>\n",
       "      <td>12:02:13 AM</td>\n",
       "      <td>-76.108942</td>\n",
       "      <td>43.054831</td>\n",
       "    </tr>\n",
       "    <tr>\n",
       "      <th>54</th>\n",
       "      <td>178</td>\n",
       "      <td>12:02:17 AM</td>\n",
       "      <td>-76.122951</td>\n",
       "      <td>43.073743</td>\n",
       "    </tr>\n",
       "    <tr>\n",
       "      <th>55</th>\n",
       "      <td>178</td>\n",
       "      <td>12:02:25 AM</td>\n",
       "      <td>-76.098817</td>\n",
       "      <td>43.056631</td>\n",
       "    </tr>\n",
       "    <tr>\n",
       "      <th>56</th>\n",
       "      <td>178</td>\n",
       "      <td>12:02:26 AM</td>\n",
       "      <td>-76.112156</td>\n",
       "      <td>43.055281</td>\n",
       "    </tr>\n",
       "  </tbody>\n",
       "</table>\n",
       "</div>"
      ],
      "text/plain": [
       "   truck_name   date_fixed  longitude   latitude\n",
       "0           0  12:00:13 AM -76.111185  43.055578\n",
       "8         178  12:00:02 AM -76.153367  43.048779\n",
       "9         178  12:00:03 AM -76.121124  43.054501\n",
       "10        178  12:00:05 AM -76.104686  43.056121\n",
       "11        178  12:00:08 AM -76.141248  43.009251\n",
       "12        178  12:00:08 AM -76.141215  43.009235\n",
       "13        178  12:00:12 AM -76.111877  43.055123\n",
       "14        178  12:00:15 AM -76.152460  43.048759\n",
       "15        178  12:00:16 AM -76.119454  43.070515\n",
       "16        178  12:00:16 AM -76.103784  43.054800\n",
       "17        178  12:00:25 AM -76.098819  43.056657\n",
       "18        178  12:00:27 AM -76.151310  43.048751\n",
       "19        178  12:00:34 AM -76.145895  43.074086\n",
       "20        178  12:00:41 AM -76.109840  43.055450\n",
       "21        178  12:00:42 AM -76.111441  43.055174\n",
       "22        178  12:00:45 AM -76.149450  43.048423\n",
       "23        178  12:00:48 AM -76.109777  43.055194\n",
       "24        178  12:00:49 AM -76.122978  43.072203\n",
       "25        178  12:00:54 AM -76.108729  43.056330\n",
       "26        178  12:00:55 AM -76.109881  43.055084\n",
       "27        178  12:00:57 AM -76.141208  43.009255\n",
       "28        178  12:01:01 AM -76.110211  43.055097\n",
       "29        178  12:01:02 AM -76.121425  43.054284\n",
       "30        178  12:01:04 AM -76.149355  43.047119\n",
       "31        178  12:01:05 AM -76.123124  43.072966\n",
       "32        178  12:01:08 AM -76.141255  43.009256\n",
       "33        178  12:01:08 AM -76.141210  43.009256\n",
       "34        178  12:01:09 AM -76.149538  43.047057\n",
       "35        178  12:01:12 AM -76.111874  43.055123\n",
       "36        178  12:01:12 AM -76.101746  43.054670\n",
       "37        178  12:01:14 AM -76.150017  43.047063\n",
       "38        178  12:01:18 AM -76.122970  43.073756\n",
       "39        178  12:01:25 AM -76.098831  43.056632\n",
       "40        178  12:01:26 AM -76.104068  43.055230\n",
       "41        178  12:01:27 AM -76.112126  43.055335\n",
       "42        178  12:01:34 AM -76.145882  43.074081\n",
       "43        178  12:01:41 AM -76.104180  43.055520\n",
       "44        178  12:01:42 AM -76.111453  43.055174\n",
       "45        178  12:01:44 AM -76.104458  43.055424\n",
       "46        178  12:01:54 AM -76.108729  43.056330\n",
       "47        178  12:01:57 AM -76.141177  43.009232\n",
       "48        178  12:02:02 AM -76.121425  43.054274\n",
       "49        178  12:02:07 AM -76.153822  43.047017\n",
       "50        178  12:02:08 AM -76.141268  43.009273\n",
       "51        178  12:02:08 AM -76.141214  43.009229\n",
       "52        178  12:02:12 AM -76.111891  43.055131\n",
       "53        178  12:02:13 AM -76.108942  43.054831\n",
       "54        178  12:02:17 AM -76.122951  43.073743\n",
       "55        178  12:02:25 AM -76.098817  43.056631\n",
       "56        178  12:02:26 AM -76.112156  43.055281"
      ]
     },
     "execution_count": 80,
     "metadata": {},
     "output_type": "execute_result"
    }
   ],
   "source": [
    "df3.iloc[0:50]"
   ]
  },
  {
   "cell_type": "code",
   "execution_count": 42,
   "metadata": {
    "collapsed": true
   },
   "outputs": [],
   "source": [
    "trck_stripped = df3.truck_name.str.strip()"
   ]
  },
  {
   "cell_type": "code",
   "execution_count": 81,
   "metadata": {
    "collapsed": true
   },
   "outputs": [],
   "source": [
    "#stripping white space from the truck names\n",
    "df3['truck_name'] = df3['truck_name'].str.strip()"
   ]
  },
  {
   "cell_type": "code",
   "execution_count": 71,
   "metadata": {
    "collapsed": true
   },
   "outputs": [],
   "source": [
    "#create a data frame only containing data for truck 210\n",
    "truck_210 = df3[df3.truck_name == '210']"
   ]
  },
  {
   "cell_type": "code",
   "execution_count": 45,
   "metadata": {},
   "outputs": [
    {
     "data": {
      "text/plain": [
       "truck_name    8866\n",
       "date_fixed    8866\n",
       "longitude     8866\n",
       "latitude      8866\n",
       "manh_dist     8866\n",
       "dtype: int64"
      ]
     },
     "execution_count": 45,
     "metadata": {},
     "output_type": "execute_result"
    }
   ],
   "source": [
    "#A Manhattan distance of .001 is ~160 meters\n",
    "df3[df3.manh_dist > .001].count()"
   ]
  },
  {
   "cell_type": "code",
   "execution_count": 46,
   "metadata": {},
   "outputs": [
    {
     "data": {
      "text/plain": [
       "truck_name    6725\n",
       "date_fixed    6725\n",
       "longitude     6725\n",
       "latitude      6725\n",
       "manh_dist     6725\n",
       "dtype: int64"
      ]
     },
     "execution_count": 46,
     "metadata": {},
     "output_type": "execute_result"
    }
   ],
   "source": [
    "df3[df3.manh_dist > .005].count()"
   ]
  },
  {
   "cell_type": "code",
   "execution_count": 47,
   "metadata": {},
   "outputs": [
    {
     "data": {
      "text/plain": [
       "truck_name    5878\n",
       "date_fixed    5878\n",
       "longitude     5878\n",
       "latitude      5878\n",
       "manh_dist     5878\n",
       "dtype: int64"
      ]
     },
     "execution_count": 47,
     "metadata": {},
     "output_type": "execute_result"
    }
   ],
   "source": [
    "df3[df3.manh_dist > .01].count()"
   ]
  },
  {
   "cell_type": "code",
   "execution_count": 72,
   "metadata": {},
   "outputs": [
    {
     "data": {
      "text/html": [
       "<div>\n",
       "<style>\n",
       "    .dataframe thead tr:only-child th {\n",
       "        text-align: right;\n",
       "    }\n",
       "\n",
       "    .dataframe thead th {\n",
       "        text-align: left;\n",
       "    }\n",
       "\n",
       "    .dataframe tbody tr th {\n",
       "        vertical-align: top;\n",
       "    }\n",
       "</style>\n",
       "<table border=\"1\" class=\"dataframe\">\n",
       "  <thead>\n",
       "    <tr style=\"text-align: right;\">\n",
       "      <th></th>\n",
       "      <th>truck_name</th>\n",
       "      <th>date_fixed</th>\n",
       "      <th>longitude</th>\n",
       "      <th>latitude</th>\n",
       "      <th>manh_dist</th>\n",
       "    </tr>\n",
       "  </thead>\n",
       "  <tbody>\n",
       "    <tr>\n",
       "      <th>2633</th>\n",
       "      <td>210</td>\n",
       "      <td>12:00:03 AM</td>\n",
       "      <td>-76.179509</td>\n",
       "      <td>43.029418</td>\n",
       "      <td>0.098832</td>\n",
       "    </tr>\n",
       "    <tr>\n",
       "      <th>2634</th>\n",
       "      <td>210</td>\n",
       "      <td>12:00:04 AM</td>\n",
       "      <td>-76.112297</td>\n",
       "      <td>43.054992</td>\n",
       "      <td>0.092786</td>\n",
       "    </tr>\n",
       "    <tr>\n",
       "      <th>2635</th>\n",
       "      <td>210</td>\n",
       "      <td>12:00:08 AM</td>\n",
       "      <td>-76.111109</td>\n",
       "      <td>43.055502</td>\n",
       "      <td>0.001698</td>\n",
       "    </tr>\n",
       "    <tr>\n",
       "      <th>2636</th>\n",
       "      <td>210</td>\n",
       "      <td>12:00:08 AM</td>\n",
       "      <td>-76.111180</td>\n",
       "      <td>43.055503</td>\n",
       "      <td>0.000071</td>\n",
       "    </tr>\n",
       "    <tr>\n",
       "      <th>2637</th>\n",
       "      <td>210</td>\n",
       "      <td>12:00:29 AM</td>\n",
       "      <td>-76.115038</td>\n",
       "      <td>43.051102</td>\n",
       "      <td>0.008260</td>\n",
       "    </tr>\n",
       "  </tbody>\n",
       "</table>\n",
       "</div>"
      ],
      "text/plain": [
       "     truck_name   date_fixed  longitude   latitude  manh_dist\n",
       "2633        210  12:00:03 AM -76.179509  43.029418   0.098832\n",
       "2634        210  12:00:04 AM -76.112297  43.054992   0.092786\n",
       "2635        210  12:00:08 AM -76.111109  43.055502   0.001698\n",
       "2636        210  12:00:08 AM -76.111180  43.055503   0.000071\n",
       "2637        210  12:00:29 AM -76.115038  43.051102   0.008260"
      ]
     },
     "execution_count": 72,
     "metadata": {},
     "output_type": "execute_result"
    }
   ],
   "source": [
    "truck_210.head()"
   ]
  },
  {
   "cell_type": "code",
   "execution_count": 83,
   "metadata": {
    "collapsed": true
   },
   "outputs": [],
   "source": [
    "for index, row in df3.iterrows():\n",
    "    folium.features.CircleMarker([row['latitude'], row['longitude']], radius=2, fill_color='blue', fill_opacity=0.3,\n",
    "                                 popup='Time: ' + str(row['date_fixed'])).add_to(syr_map)"
   ]
  },
  {
   "cell_type": "code",
   "execution_count": 84,
   "metadata": {},
   "outputs": [
    {
     "name": "stderr",
     "output_type": "stream",
     "text": [
      "IOPub data rate exceeded.\n",
      "The notebook server will temporarily stop sending output\n",
      "to the client in order to avoid crashing it.\n",
      "To change this limit, set the config variable\n",
      "`--NotebookApp.iopub_data_rate_limit`.\n"
     ]
    }
   ],
   "source": [
    "syr_map"
   ]
  },
  {
   "cell_type": "code",
   "execution_count": null,
   "metadata": {
    "collapsed": true
   },
   "outputs": [],
   "source": []
  }
 ],
 "metadata": {
  "kernelspec": {
   "display_name": "Python 3",
   "language": "python",
   "name": "python3"
  },
  "language_info": {
   "codemirror_mode": {
    "name": "ipython",
    "version": 3
   },
   "file_extension": ".py",
   "mimetype": "text/x-python",
   "name": "python",
   "nbconvert_exporter": "python",
   "pygments_lexer": "ipython3",
   "version": "3.6.1"
  }
 },
 "nbformat": 4,
 "nbformat_minor": 2
}
