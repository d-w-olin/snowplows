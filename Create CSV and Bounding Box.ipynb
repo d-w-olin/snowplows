{
 "cells": [
  {
   "cell_type": "code",
   "execution_count": 64,
   "metadata": {
    "collapsed": true
   },
   "outputs": [],
   "source": [
    "import json\n",
    "import csv\n",
    "import numpy as np\n",
    "import pandas as pd\n",
    "import os\n",
    "import pickle"
   ]
  },
  {
   "cell_type": "markdown",
   "metadata": {},
   "source": [
    "## Load GeoJson"
   ]
  },
  {
   "cell_type": "code",
   "execution_count": 9,
   "metadata": {},
   "outputs": [],
   "source": [
    "#load json file\n",
    "with open(\"../Snowplow_data_orig/20170316.geojson\",\"r\") as f:\n",
    "    data = json.load(f)"
   ]
  },
  {
   "cell_type": "code",
   "execution_count": 12,
   "metadata": {},
   "outputs": [
    {
     "data": {
      "text/plain": [
       "44768"
      ]
     },
     "execution_count": 12,
     "metadata": {},
     "output_type": "execute_result"
    }
   ],
   "source": [
    "#number of data points\n",
    "len(data['features'])"
   ]
  },
  {
   "cell_type": "code",
   "execution_count": 13,
   "metadata": {},
   "outputs": [
    {
     "data": {
      "text/plain": [
       "{'geometry': {'coordinates': [-76.11051293100526, 43.054771610537394],\n",
       "  'type': 'Point'},\n",
       " 'properties': {'FID': 9457,\n",
       "  'activity_type': '    Stop Moving',\n",
       "  'address': '1244 CANAL ST SYRACUSE 13210                      ',\n",
       "  'date_fixed': '2017-03-16T07:25:18.000Z',\n",
       "  'date_fixed1': '2017-03-16T07:25:19.000Z',\n",
       "  'latitude': 43.0547716105374,\n",
       "  'longitude': -76.1105129310053,\n",
       "  'repair_type': 'SNOW & ICE',\n",
       "  'truck_name': '285             '},\n",
       " 'type': 'Feature'}"
      ]
     },
     "execution_count": 13,
     "metadata": {},
     "output_type": "execute_result"
    }
   ],
   "source": [
    "#sample data point\n",
    "data['features'][3456]"
   ]
  },
  {
   "cell_type": "markdown",
   "metadata": {},
   "source": [
    "## Paths to files"
   ]
  },
  {
   "cell_type": "code",
   "execution_count": 63,
   "metadata": {
    "collapsed": true
   },
   "outputs": [],
   "source": [
    "march_files = [ ['../Snowplow/20170313.csv','../Snowplow_data_orig/20170313.geojson'] , \n",
    "                ['../Snowplow/20170314.csv','../Snowplow_data_orig/20170314.geojson'] ,\n",
    "                ['../Snowplow/20170315.csv','../Snowplow_data_orig/20170315.geojson'] ,\n",
    "                ['../Snowplow/20170316.csv','../Snowplow_data_orig/20170316.geojson']   ]\n",
    "\n",
    "jan_files_1_4 = [   ['../Snowplow/20180101.csv', '../Snowplow_data_orig/20180101.geojson'] ,\n",
    "                    ['../Snowplow/20180102.csv', '../Snowplow_data_orig/20180102.geojson'] ,\n",
    "                    ['../Snowplow/20180103.csv', '../Snowplow_data_orig/20180103.geojson'] ,\n",
    "                    ['../Snowplow/20180104.csv', '../Snowplow_data_orig/20180104.geojson']  ]\n",
    "\n",
    "jan_files_6_9 = [   ['../Snowplow/20180106.csv', '../Snowplow_data_orig/20180106.geojson'] ,\n",
    "                    ['../Snowplow/20180107.csv', '../Snowplow_data_orig/20180107.geojson'] ,\n",
    "                    ['../Snowplow/20180108.csv', '../Snowplow_data_orig/20180108.geojson'] ,\n",
    "                    ['../Snowplow/20180109.csv', '../Snowplow_data_orig/20180109.geojson']  ]\n"
   ]
  },
  {
   "cell_type": "markdown",
   "metadata": {},
   "source": [
    "## Create CSV's (note: need to manually change iterable for each file path list)"
   ]
  },
  {
   "cell_type": "code",
   "execution_count": 62,
   "metadata": {},
   "outputs": [],
   "source": [
    "for each in march_files:\n",
    "    with open(each[1],\"r\") as f:\n",
    "        data = json.load(f)\n",
    "    csv_data = open(each[0], 'w', newline='')\n",
    "    csvwriter = csv.writer(csv_data)\n",
    "    csvwriter.writerow([\"truck_name\", \"date_fixed\", \"date_fixed2\",\"address\",\"longitude\", \"latitude\"])\n",
    "    for each in data['features']:\n",
    "        csvwriter.writerow([    each[\"properties\"][\"truck_name\"], \n",
    "                                each[\"properties\"][\"date_fixed\"],\n",
    "                                each[\"properties\"][\"date_fixed1\"],\n",
    "                                each[\"properties\"][\"address\"], \n",
    "                                each[\"properties\"][\"longitude\"], \n",
    "                                each[\"properties\"][\"latitude\"]    ])\n",
    "    csv_data.close()\n",
    "    "
   ]
  },
  {
   "cell_type": "code",
   "execution_count": null,
   "metadata": {
    "collapsed": true
   },
   "outputs": [],
   "source": []
  },
  {
   "cell_type": "code",
   "execution_count": null,
   "metadata": {
    "collapsed": true
   },
   "outputs": [],
   "source": []
  },
  {
   "cell_type": "code",
   "execution_count": null,
   "metadata": {
    "collapsed": true
   },
   "outputs": [],
   "source": []
  },
  {
   "cell_type": "markdown",
   "metadata": {},
   "source": [
    "## Convert any multiple coordinate features to a bounding box (2 coords)\n",
    "#### In order to map points to a corresponding line segment, we must reduce all features of the City Streets GeoJSON file to a bounding box of just two coords (i.e. upper right and lower left corner). There are 1691 features that have more than 2 coords (i.e. Not a line)"
   ]
  },
  {
   "cell_type": "code",
   "execution_count": 65,
   "metadata": {
    "collapsed": true
   },
   "outputs": [],
   "source": [
    "with open('City_Streets_2011.geojson') as f_in:\n",
    "    data = json.load(f_in)"
   ]
  },
  {
   "cell_type": "code",
   "execution_count": 66,
   "metadata": {},
   "outputs": [
    {
     "data": {
      "text/plain": [
       "5650"
      ]
     },
     "execution_count": 66,
     "metadata": {},
     "output_type": "execute_result"
    }
   ],
   "source": [
    "#How many features (i.e. road segments)\n",
    "len(data['features'])"
   ]
  },
  {
   "cell_type": "code",
   "execution_count": 67,
   "metadata": {},
   "outputs": [
    {
     "name": "stdout",
     "output_type": "stream",
     "text": [
      "3959\n"
     ]
    }
   ],
   "source": [
    "#Number features with 2 coords\n",
    "cnt = 0\n",
    "for each in data['features']:\n",
    "    if len(each['geometry']['coordinates']) == 2:\n",
    "        cnt += 1\n",
    "print (cnt)"
   ]
  },
  {
   "cell_type": "code",
   "execution_count": 68,
   "metadata": {},
   "outputs": [
    {
     "name": "stdout",
     "output_type": "stream",
     "text": [
      "1691\n"
     ]
    }
   ],
   "source": [
    "#Number features with >2 coords (e.g. circular road segments)\n",
    "cnt = 0\n",
    "for each in data['features']:\n",
    "    if len(each['geometry']['coordinates']) > 2:\n",
    "        cnt += 1\n",
    "print (cnt)"
   ]
  },
  {
   "cell_type": "code",
   "execution_count": 188,
   "metadata": {
    "collapsed": true
   },
   "outputs": [],
   "source": [
    "test_list = [[-76.1505499459102,43.0820257566861],[-76.1493841368104,43.0827927099946],[-76.148718240551,43.0833314101819],\n",
    "             [-76.148097930336,43.0838404394666]]"
   ]
  },
  {
   "cell_type": "code",
   "execution_count": 69,
   "metadata": {
    "collapsed": true
   },
   "outputs": [],
   "source": [
    "#INPUT: list of coordinates forming a path\n",
    "#OUTPUT: list of 2 coordinates which create the bounding box of all the input coordinates\n",
    "def create_bound_box(arr):\n",
    "    lon = []\n",
    "    lat = []\n",
    "    for each in arr:\n",
    "        lon.append(each[0])\n",
    "        lat.append(each[1])\n",
    "    return [[max(lon),max(lat)],[min(lon),min(lat)]]\n",
    "        \n",
    "        "
   ]
  },
  {
   "cell_type": "code",
   "execution_count": 190,
   "metadata": {},
   "outputs": [
    {
     "data": {
      "text/plain": [
       "[[-76.148097930336, 43.0838404394666], [-76.1505499459102, 43.0820257566861]]"
      ]
     },
     "execution_count": 190,
     "metadata": {},
     "output_type": "execute_result"
    }
   ],
   "source": [
    "#test the function\n",
    "create_bound_box(test_list)"
   ]
  },
  {
   "cell_type": "code",
   "execution_count": 191,
   "metadata": {},
   "outputs": [
    {
     "name": "stdout",
     "output_type": "stream",
     "text": [
      "650\n"
     ]
    }
   ],
   "source": [
    "#making sure 'OBJECTID' is unique and matches the number of features\n",
    "cnt = 0\n",
    "for each in data['features']:\n",
    "    if each['properties']['OBJECTID'] > 5000:\n",
    "        cnt += 1\n",
    "print (cnt)"
   ]
  },
  {
   "cell_type": "code",
   "execution_count": 70,
   "metadata": {
    "collapsed": true
   },
   "outputs": [],
   "source": [
    "#NOTE: NOT USED! Initial implementation as a list. Dictionary below is better.\n",
    "#for each feature (road segment), if a path of multiple coords, convert to a bounding box of 2 coords. Store results in a\n",
    "#list of format: [ [OBJECTID, [ [lon1,lat1],[lon2,lon2] ] ] ]\n",
    "#This is a mapping from the OBJECTID in the GeoJSON file to its bounding box\n",
    "\n",
    "#objID_to_bnd_box = []\n",
    "#for each in data['features']:\n",
    "#   if len(each['geometry']['coordinates']) == 2:\n",
    "#        objID_to_bnd_box.append([each['properties']['OBJECTID'],each['geometry']['coordinates']])\n",
    "#    else:\n",
    "#        objID_to_bnd_box.append([each['properties']['OBJECTID'],create_bound_box(each['geometry']['coordinates'])])\n"
   ]
  },
  {
   "cell_type": "code",
   "execution_count": 82,
   "metadata": {},
   "outputs": [],
   "source": [
    "#USED\n",
    "#for each feature (road segment), if a path of multiple coords, convert to a bounding box of 2 coords.\n",
    "#This is a mapping from the OBJECTID in the GeoJSON file to its bounding box\n",
    "objID_to_bnd_box = {}\n",
    "for each in data['features']:\n",
    "    if len(each['geometry']['coordinates']) == 2:\n",
    "        objID_to_bnd_box[each['properties']['OBJECTID']] = each['geometry']['coordinates']\n",
    "    else:\n",
    "        objID_to_bnd_box[each['properties']['OBJECTID']] = create_bound_box(each['geometry']['coordinates'])\n"
   ]
  },
  {
   "cell_type": "code",
   "execution_count": 84,
   "metadata": {},
   "outputs": [
    {
     "data": {
      "text/plain": [
       "[[-76.1162203864598, 43.0189868728735], [-76.1163481970452, 43.0179750500172]]"
      ]
     },
     "execution_count": 84,
     "metadata": {},
     "output_type": "execute_result"
    }
   ],
   "source": [
    "objID_to_bnd_box[5002]"
   ]
  },
  {
   "cell_type": "code",
   "execution_count": 89,
   "metadata": {},
   "outputs": [
    {
     "name": "stdout",
     "output_type": "stream",
     "text": [
      "T\n"
     ]
    }
   ],
   "source": [
    "#check if exactly two items in each sublist (i.e. OBJECTID and list of coords)\n",
    "for _,v in objID_to_bnd_box.items():\n",
    "    if len(v) != 2:\n",
    "        print ('F')\n",
    "        break\n",
    "print ('T')    "
   ]
  },
  {
   "cell_type": "code",
   "execution_count": 91,
   "metadata": {},
   "outputs": [
    {
     "data": {
      "text/plain": [
       "5650"
      ]
     },
     "execution_count": 91,
     "metadata": {},
     "output_type": "execute_result"
    }
   ],
   "source": [
    "len(objID_to_bnd_box)"
   ]
  },
  {
   "cell_type": "markdown",
   "metadata": {},
   "source": [
    "## Save ID--->Bound Box dictionary as pickle"
   ]
  },
  {
   "cell_type": "code",
   "execution_count": 92,
   "metadata": {
    "collapsed": true
   },
   "outputs": [],
   "source": [
    "pickle.dump( objID_to_bnd_box, open( \"ID_to_bound_box\", \"wb\" ) )"
   ]
  },
  {
   "cell_type": "markdown",
   "metadata": {},
   "source": [
    "## Load ID--->Bound Box dictionary from pickle"
   ]
  },
  {
   "cell_type": "code",
   "execution_count": 93,
   "metadata": {
    "collapsed": true
   },
   "outputs": [],
   "source": [
    "objID_to_bnd_box = pickle.load( open( \"ID_to_bound_box\", \"rb\" ) )"
   ]
  },
  {
   "cell_type": "code",
   "execution_count": null,
   "metadata": {
    "collapsed": true
   },
   "outputs": [],
   "source": []
  },
  {
   "cell_type": "code",
   "execution_count": null,
   "metadata": {
    "collapsed": true
   },
   "outputs": [],
   "source": [
    "#INPUT: 1) DataFrame, which includes coordinates at certain times 2) file containing OBJECTID and corresponding bounding box \n",
    "#          info \n",
    "#OUTPUT: Dictionary of format: {[time_plowed,OBJECTID],[time_plowed,OBJECTID],......}\n"
   ]
  },
  {
   "cell_type": "code",
   "execution_count": null,
   "metadata": {
    "collapsed": true
   },
   "outputs": [],
   "source": [
    "#Pickle template\n",
    "pickle.dump( object_to_pickle, open( \"filename_here\", \"wb\" ) )"
   ]
  }
 ],
 "metadata": {
  "kernelspec": {
   "display_name": "Python 3",
   "language": "python",
   "name": "python3"
  },
  "language_info": {
   "codemirror_mode": {
    "name": "ipython",
    "version": 3
   },
   "file_extension": ".py",
   "mimetype": "text/x-python",
   "name": "python",
   "nbconvert_exporter": "python",
   "pygments_lexer": "ipython3",
   "version": "3.6.1"
  }
 },
 "nbformat": 4,
 "nbformat_minor": 2
}
